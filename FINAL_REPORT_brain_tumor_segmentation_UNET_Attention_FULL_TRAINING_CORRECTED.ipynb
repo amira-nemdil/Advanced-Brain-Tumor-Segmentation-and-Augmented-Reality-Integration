{
 "cells": [
  {
   "cell_type": "markdown",
   "id": "2e91d1b8",
   "metadata": {},
   "source": [
    "## 🚀 Training and Evaluation Instructions\n",
    "\n",
    "This section explains the steps to train and validate both U-Net and Attention U-Net models:\n",
    "\n",
    "1. **Run all cells sequentially** from top to bottom.\n",
    "2. If you encounter GPU memory issues, **reduce the batch size** in the DataLoader (try 1 or 2).\n",
    "3. **Training**: \n",
    "   ```python\n",
    "   train_model(UNet3D(), \"unet3d\")\n",
    "   train_model(AttentionUNet3D(), \"att_unet3d\")\n",
    "   ```\n",
    "4. **Saved models:**\n",
    "   - `unet3d_best.pth` (U-Net)\n",
    "   - `att_unet3d_best.pth` (Attention U-Net)\n",
    "5. **Results:** Dice scores, plots, and model logs are automatically saved for each run.\n",
    "---"
   ]
  },
  {
   "cell_type": "markdown",
   "id": "b7ba65ce",
   "metadata": {},
   "source": [
    "# 🧠 Brain Tumor Segmentation Using 3D U-Net and Attention U-Net (PyTorch)\n",
    "### Advanced Deep Learning Pipeline for MRI Segmentation\n",
    "\n",
    "This notebook presents a complete deep learning pipeline for 3D brain tumor segmentation from MRI images using U-Net and Attention U-Net architectures.\n",
    "\n",
    "**Features:**\n",
    "- Data preprocessing and loading for multi-modal MRI\n",
    "- Custom PyTorch dataset and data loader\n",
    "- Implementation of U-Net and Attention U-Net\n",
    "- Advanced training loop with early stopping and learning rate scheduling\n",
    "- Quantitative evaluation (Dice, loss curves) and qualitative visualizations\n",
    "- Easily adaptable for research, internship, and clinical exploration\n",
    "\n",
    "----"
   ]
  },
  {
   "cell_type": "markdown",
   "id": "4b34c548",
   "metadata": {},
   "source": [
    "## ⚙️ Environment Setup and Dependencies\n",
    "\n",
    "We use PyTorch for model development, along with utility libraries such as NumPy, matplotlib, and tqdm for progress visualization. Ensure you have a CUDA-compatible GPU for best performance. This notebook is designed to run efficiently on a modern workstation with at least 8 GB GPU memory.\n"
   ]
  },
  {
   "cell_type": "code",
   "execution_count": null,
   "id": "6f6384b8",
   "metadata": {},
   "outputs": [],
   "source": [
    "import os\n",
    "import numpy as np\n",
    "import torch\n",
    "import torch.nn as nn\n",
    "import torch.nn.functional as F\n",
    "from torch.utils.data import Dataset, DataLoader, random_split\n",
    "from glob import glob\n",
    "import matplotlib.pyplot as plt\n",
    "from tqdm import tqdm\n",
    "import random\n",
    "from torch.optim.lr_scheduler import ReduceLROnPlateau\n",
    "\n",
    "torch.manual_seed(42)\n",
    "np.random.seed(42)\n",
    "random.seed(42)\n",
    "DEVICE = torch.device('cuda' if torch.cuda.is_available() else 'cpu')\n",
    "print('✅ Using device:', DEVICE)"
   ]
  },
  {
   "cell_type": "code",
   "execution_count": null,
   "id": "57ba81d8",
   "metadata": {},
   "outputs": [],
   "source": [
    "import torch\n",
    "print(\"CUDA available:\", torch.cuda.is_available())\n",
    "print(\"CUDA device:\", torch.cuda.get_device_name(0) if torch.cuda.is_available() else \"None\")\n"
   ]
  },
  {
   "cell_type": "code",
   "execution_count": null,
   "id": "493090a1",
   "metadata": {},
   "outputs": [],
   "source": [
    "# Confirm GPU\n",
    "print(torch.cuda.get_device_name(0))\n",
    "\n",
    "# Confirm one batch\n",
    "for images, masks in train_loader:\n",
    "    print(images.shape, masks.shape)\n",
    "    break\n",
    "\n",
    "# Confirm model forward\n",
    "model = UNet().to(DEVICE)\n",
    "print(model(torch.randn(1, 1, 256, 256).to(DEVICE)).shape)\n"
   ]
  },
  {
   "cell_type": "markdown",
   "id": "aded7175",
   "metadata": {},
   "source": [
    "## 📂 Dataset Preparation: Multi-modal MRI Loader\n",
    "\n",
    "For this project, we utilize multi-modal MRI brain images stored as `.npy` files. Each image contains 4 modalities (FLAIR, T1, T1ce, T2) stacked along the last axis. The corresponding segmentation mask is a 2D array with integer values indicating tissue type (0 = background, 1 = tumor). This organization enables effective multi-modal learning for robust tumor segmentation.\n"
   ]
  },
  {
   "cell_type": "markdown",
   "id": "ba2dcdce",
   "metadata": {},
   "source": [
    "## 📂 Dataset Preparation: Multi-modal MRI Loader\n",
    "\n",
    "For this project, we utilize multi-modal MRI brain images stored as `.npy` files. Each image contains 4 modalities (FLAIR, T1, T1ce, T2) stacked along the last axis. The corresponding segmentation mask is a 2D array with integer values indicating tissue type (0 = background, 1 = tumor). This organization enables effective multi-modal learning for robust tumor segmentation.\n"
   ]
  },
  {
   "cell_type": "code",
   "execution_count": null,
   "id": "3a44f94f",
   "metadata": {},
   "outputs": [],
   "source": [
    "from torch.utils.data import Dataset, DataLoader, random_split\n",
    "import numpy as np\n",
    "import torch\n",
    "import os\n",
    "\n",
    "class BrainTumorDataset(Dataset):\n",
    "    def __init__(self, image_dir, mask_dir):\n",
    "        self.image_dir = image_dir\n",
    "        self.mask_dir = mask_dir\n",
    "\n",
    "        if not os.path.isdir(image_dir):\n",
    "            raise FileNotFoundError(f\"Image directory not found: {image_dir}\")\n",
    "        if not os.path.isdir(mask_dir):\n",
    "            raise FileNotFoundError(f\"Mask directory not found: {mask_dir}\")\n",
    "\n",
    "        self.image_files = sorted([\n",
    "            f for f in os.listdir(image_dir) if f.endswith(\".npy\")\n",
    "        ])\n",
    "        self.mask_files = sorted([\n",
    "            f.replace(\"image_\", \"mask_\") for f in self.image_files\n",
    "        ])\n",
    "\n",
    "    def __len__(self):\n",
    "        return len(self.image_files)\n",
    "\n",
    "    def __getitem__(self, idx):\n",
    "        image_path = os.path.join(self.image_dir, self.image_files[idx])\n",
    "        mask_path  = os.path.join(self.mask_dir,  self.mask_files[idx])\n",
    "\n",
    "        image = np.load(image_path)  # shape: (H, W, 4)\n",
    "        mask = np.load(mask_path)    # shape: (H, W)\n",
    "\n",
    "        image = torch.tensor(image, dtype=torch.float32).permute(2, 0, 1)  # (4, H, W)\n",
    "        mask = torch.tensor(mask, dtype=torch.long)  # (H, W)\n",
    "\n",
    "        return image, mask\n",
    "\n",
    "# Initialize dataset\n",
    "dataset = BrainTumorDataset(\n",
    "    r\"D:\\Khedir-meriem-ESI-SBElAbes\\data\\input_data_4channels_z_score\\train\\images\",\n",
    "    r\"D:\\Khedir-meriem-ESI-SBElAbes\\data\\input_data_4channels_z_score\\train\\masks\"\n",
    ")\n",
    "\n",
    "\n",
    "\n",
    "# Split into train/validation sets\n",
    "train_size = int(0.8 * len(dataset))\n",
    "val_size = len(dataset) - train_size\n",
    "train_set, val_set = random_split(dataset, [train_size, val_size])\n",
    "\n",
    "# Create DataLoaders\n",
    "train_loader = DataLoader(train_set, batch_size=4, shuffle=True, num_workers=4, pin_memory=True)\n",
    "val_loader = DataLoader(val_set, batch_size=4, shuffle=False, num_workers=4, pin_memory=True)\n",
    "\n",
    "print(f\"✅ Dataset loaded — Train: {len(train_set)} | Validation: {len(val_set)}\")\n"
   ]
  },
  {
   "cell_type": "markdown",
   "id": "e48d6c79",
   "metadata": {},
   "source": [
    "## 🧠 Model Architectures: U-Net & Attention U-Net\n",
    "\n",
    "**U-Net:** The U-Net architecture is a widely used encoder-decoder convolutional neural network for biomedical image segmentation. It features skip connections that preserve spatial detail, enabling precise localization.\n",
    "\n",
    "**Attention U-Net:** The Attention U-Net augments the standard U-Net with attention gates that allow the network to focus on relevant image regions, further improving segmentation accuracy, especially in challenging cases.\n"
   ]
  },
  {
   "cell_type": "code",
   "execution_count": null,
   "id": "2a53dcf2",
   "metadata": {},
   "outputs": [],
   "source": [
    "class UNet(nn.Module):\n",
    "    def __init__(self, in_channels=4, out_channels=2):\n",
    "        super(UNet, self).__init__()\n",
    "        def conv_block(in_c, out_c):\n",
    "            return nn.Sequential(\n",
    "                nn.Conv2d(in_c, out_c, 3, padding=1), nn.BatchNorm2d(out_c), nn.ReLU(),\n",
    "                nn.Conv2d(out_c, out_c, 3, padding=1), nn.BatchNorm2d(out_c), nn.ReLU())\n",
    "        self.enc1 = conv_block(in_channels, 64)\n",
    "        self.pool1 = nn.MaxPool2d(2)\n",
    "        self.enc2 = conv_block(64, 128)\n",
    "        self.pool2 = nn.MaxPool2d(2)\n",
    "        self.bottleneck = conv_block(128, 256)\n",
    "        self.up2 = nn.ConvTranspose2d(256, 128, 2, 2)\n",
    "        self.dec2 = conv_block(256, 128)\n",
    "        self.up1 = nn.ConvTranspose2d(128, 64, 2, 2)\n",
    "        self.dec1 = conv_block(128, 64)\n",
    "        self.output = nn.Conv2d(64, out_channels, 1)\n",
    "\n",
    "    def forward(self, x):\n",
    "        e1 = self.enc1(x)\n",
    "        e2 = self.enc2(self.pool1(e1))\n",
    "        b = self.bottleneck(self.pool2(e2))\n",
    "        d2 = self.dec2(torch.cat([self.up2(b), e2], dim=1))\n",
    "        d1 = self.dec1(torch.cat([self.up1(d2), e1], dim=1))\n",
    "        return self.output(d1)"
   ]
  },
  {
   "cell_type": "code",
   "execution_count": null,
   "id": "dc74bd58",
   "metadata": {},
   "outputs": [],
   "source": [
    "class AttentionBlock(nn.Module):\n",
    "    def __init__(self, F_g, F_l, F_int):\n",
    "        super(AttentionBlock, self).__init__()\n",
    "        self.W_g = nn.Sequential(nn.Conv2d(F_g, F_int, 1), nn.BatchNorm2d(F_int))\n",
    "        self.W_x = nn.Sequential(nn.Conv2d(F_l, F_int, 1), nn.BatchNorm2d(F_int))\n",
    "        self.psi = nn.Sequential(nn.Conv2d(F_int, 1, 1), nn.BatchNorm2d(1), nn.Sigmoid())\n",
    "        self.relu = nn.ReLU(inplace=True)\n",
    "\n",
    "    def forward(self, g, x):\n",
    "        return x * self.psi(self.relu(self.W_g(g) + self.W_x(x)))"
   ]
  },
  {
   "cell_type": "code",
   "execution_count": null,
   "id": "3c145407",
   "metadata": {},
   "outputs": [],
   "source": [
    "class AttentionUNet(nn.Module):\n",
    "    def __init__(self, in_channels=4, out_channels=2):\n",
    "        super(AttentionUNet, self).__init__()\n",
    "        def conv_block(in_c, out_c):\n",
    "            return nn.Sequential(\n",
    "                nn.Conv2d(in_c, out_c, 3, padding=1), nn.BatchNorm2d(out_c), nn.ReLU(),\n",
    "                nn.Conv2d(out_c, out_c, 3, padding=1), nn.BatchNorm2d(out_c), nn.ReLU())\n",
    "        self.enc1 = conv_block(in_channels, 64)\n",
    "        self.pool1 = nn.MaxPool2d(2)\n",
    "        self.enc2 = conv_block(64, 128)\n",
    "        self.pool2 = nn.MaxPool2d(2)\n",
    "        self.bottleneck = conv_block(128, 256)\n",
    "        self.up2 = nn.ConvTranspose2d(256, 128, 2, 2)\n",
    "        self.att2 = AttentionBlock(128, 128, 64)\n",
    "        self.dec2 = conv_block(256, 128)\n",
    "        self.up1 = nn.ConvTranspose2d(128, 64, 2, 2)\n",
    "        self.att1 = AttentionBlock(64, 64, 32)\n",
    "        self.dec1 = conv_block(128, 64)\n",
    "        self.output = nn.Conv2d(64, out_channels, 1)\n",
    "\n",
    "    def forward(self, x):\n",
    "        e1 = self.enc1(x)\n",
    "        e2 = self.enc2(self.pool1(e1))\n",
    "        b = self.bottleneck(self.pool2(e2))\n",
    "        d2 = self.up2(b); d2 = self.att2(g=d2, x=e2); d2 = self.dec2(torch.cat([d2, e2], dim=1))\n",
    "        d1 = self.up1(d2); d1 = self.att1(g=d1, x=e1); d1 = self.dec1(torch.cat([d1, e1], dim=1))\n",
    "        return self.output(d1)"
   ]
  },
  {
   "cell_type": "markdown",
   "id": "1cf1a80b",
   "metadata": {},
   "source": [
    "## 📂 Dataset Preparation: Multi-modal MRI Loader\n",
    "\n",
    "For this project, we utilize multi-modal MRI brain images stored as `.npy` files. Each image contains 4 modalities (FLAIR, T1, T1ce, T2) stacked along the last axis. The corresponding segmentation mask is a 2D array with integer values indicating tissue type (0 = background, 1 = tumor). This organization enables effective multi-modal learning for robust tumor segmentation.\n"
   ]
  },
  {
   "cell_type": "code",
   "execution_count": null,
   "id": "1839abb8",
   "metadata": {},
   "outputs": [],
   "source": [
    "dataset = BrainTumorDataset(\n",
    "    r\"D:\\Khedir-meriem-ESI-SBElAbes\\data\\input_data_4channels_z_score\\train\\images\",\n",
    "    r\"D:\\Khedir-meriem-ESI-SBElAbes\\data\\input_data_4channels_z_score\\train\\masks\"\n",
    ")\n",
    "\n",
    "print(\"Total samples:\", len(dataset))\n",
    "img, mask = dataset[0]\n",
    "print(\"Image shape:\", img.shape)\n",
    "print(\"Mask shape:\", mask.shape)\n",
    "# Split dataset into train and validation sets\n",
    "train_size = int(0.8 * len(dataset))\n",
    "val_size = len(dataset) - train_size\n",
    "train_dataset, val_dataset = random_split(dataset, [train_size, val_size])\n",
    "train_loader = DataLoader(train_dataset, batch_size=16, shuffle=True)\n",
    "val_loader = DataLoader(val_dataset, batch_size=16, shuffle=False)\n",
    "# Define loss function and optimizer\n",
    "criterion = nn.CrossEntropyLoss()\n",
    "model = UNet().to(DEVICE)\n",
    "optimizer = torch.optim.Adam(model.parameters(), lr=1e-4)\n",
    "scheduler = ReduceLROnPlateau(optimizer, mode='min', factor=0.5, patience=3, verbose=True)\n",
    "# Training loop\n",
    "num_epochs = 20\n",
    "train_losses = []\n",
    "val_losses = []\n"
   ]
  },
  {
   "cell_type": "markdown",
   "id": "12d7303e",
   "metadata": {},
   "source": [
    "## 📐 Dice Coefficient Metric\n",
    "Used to evaluate how well the predicted segmentation matches the ground truth."
   ]
  },
  {
   "cell_type": "markdown",
   "id": "cb4ac624",
   "metadata": {},
   "source": [
    "\n",
    "## 📐 Dice Coefficient Metric (For Hard Labels)\n",
    "\n",
    "**Why this version?**\n",
    "- Correct for \"hard\" class masks, e.g., after `torch.argmax(model(x), dim=1)`\n",
    "- Works for multi-class or binary segmentation where each pixel/voxel is an integer label\n",
    "\n",
    "> For classic \"soft\" Dice (e.g. sigmoid/thresholded masks), see the note in comments.\n",
    "\n",
    "**Expected shapes:**\n",
    "- Prediction: `[B, D, H, W]` (or `[B, H, W]`) — *from `argmax` over model output*\n",
    "- Target:     `[B, D, H, W]` (or `[B, H, W]`) — *ground truth mask*\n"
   ]
  },
  {
   "cell_type": "code",
   "execution_count": null,
   "id": "f63d9c80",
   "metadata": {},
   "outputs": [],
   "source": [
    "def dice_coeff(pred, target, eps=1e-6):\n",
    "    \"\"\"\n",
    "    Dice coefficient for hard class-labeled masks (multi-class or binary).\n",
    "    Args:\n",
    "        pred (Tensor): predicted mask, e.g., shape [B, D, H, W]\n",
    "        target (Tensor): ground truth mask, same shape\n",
    "    Returns:\n",
    "        Dice score (float)\n",
    "    \"\"\"\n",
    "    pred = pred.contiguous().view(-1)\n",
    "    target = target.contiguous().view(-1)\n",
    "    intersection = (pred == target).float().sum()\n",
    "    dice = (2. * intersection) / (pred.numel() + target.numel() + eps)\n",
    "    return dice\n",
    "\n",
    "# Note: For \"soft\" Dice (with sigmoid/thresholded masks, binary only):\n",
    "# intersection = (pred * target).sum()\n",
    "# dice = (2. * intersection + eps) / (pred.sum() + target.sum() + eps)\n"
   ]
  },
  {
   "cell_type": "markdown",
   "id": "96002ab7",
   "metadata": {},
   "source": [
    "## 🧪 Training Function (AMP + EarlyStopping + Scheduler)"
   ]
  },
  {
   "cell_type": "markdown",
   "id": "f405b073",
   "metadata": {},
   "source": [
    "\n",
    "## 🏋️ Training Function: AMP, Early Stopping, Scheduler\n",
    "- Uses **Automatic Mixed Precision (AMP)** for faster training\n",
    "- Early stopping after no improvement for 10 epochs\n",
    "- CSV log for every run; saves best weights and Dice curve plot\n"
   ]
  },
  {
   "cell_type": "code",
   "execution_count": null,
   "id": "9dc0b78b",
   "metadata": {},
   "outputs": [],
   "source": [
    "\n",
    "from torch.cuda.amp import autocast, GradScaler\n",
    "import csv\n",
    "\n",
    "def train_model(model, name):\n",
    "    model = model.to(DEVICE)\n",
    "    optimizer = torch.optim.Adam(model.parameters(), lr=1e-4)\n",
    "    scheduler = ReduceLROnPlateau(optimizer, 'min', patience=5, verbose=True)\n",
    "    criterion = nn.CrossEntropyLoss()\n",
    "\n",
    "    scaler = GradScaler()\n",
    "    best_dice = 0\n",
    "    patience = 10\n",
    "    trigger = 0\n",
    "    train_dice, val_dice = [], []\n",
    "\n",
    "    # Prepare CSV log file\n",
    "    log_path = f\"{name}_log.csv\"\n",
    "    with open(log_path, mode=\"w\", newline=\"\") as file:\n",
    "        writer = csv.writer(file)\n",
    "        writer.writerow([\"Epoch\", \"TrainLoss\", \"ValDice\"])\n",
    "\n",
    "    for epoch in range(1, 101):\n",
    "        model.train()\n",
    "        total_loss = 0\n",
    "        for x, y in tqdm(train_loader, desc=f\"Epoch {epoch}\"):\n",
    "            x, y = x.to(DEVICE), y.to(DEVICE)\n",
    "            optimizer.zero_grad()\n",
    "\n",
    "            with autocast():\n",
    "                out = model(x)\n",
    "                loss = criterion(out, y)\n",
    "\n",
    "            scaler.scale(loss).backward()\n",
    "            scaler.step(optimizer)\n",
    "            scaler.update()\n",
    "\n",
    "            total_loss += loss.item()\n",
    "\n",
    "        # Validation\n",
    "        model.eval()\n",
    "        dice = 0\n",
    "        with torch.no_grad():\n",
    "            for x, y in val_loader:\n",
    "                x, y = x.to(DEVICE), y.to(DEVICE)\n",
    "                with autocast():\n",
    "                    pred = torch.argmax(model(x), dim=1)\n",
    "                dice += dice_coeff(pred.cpu(), y.cpu())\n",
    "        avg_dice = dice / len(val_loader)\n",
    "        val_dice.append(avg_dice.item())\n",
    "\n",
    "        # Log to CSV\n",
    "        with open(log_path, mode=\"a\", newline=\"\") as file:\n",
    "            writer = csv.writer(file)\n",
    "            writer.writerow([epoch, total_loss, avg_dice.item()])\n",
    "\n",
    "        print(f\"[{name}] Epoch {epoch}, Loss: {total_loss:.4f}, Val Dice: {avg_dice:.4f}\")\n",
    "        scheduler.step(total_loss)\n",
    "\n",
    "        if avg_dice > best_dice:\n",
    "            best_dice = avg_dice\n",
    "            torch.save(model.state_dict(), f\"{name}_best.pth\")\n",
    "            print(f\"✅ Saved best model with Dice: {best_dice:.4f}\")\n",
    "            trigger = 0\n",
    "        else:\n",
    "            trigger += 1\n",
    "            if trigger >= patience:\n",
    "                print(\"⏹️ Early stopping triggered.\")\n",
    "                break\n",
    "\n",
    "    # After training: plot Dice scores\n",
    "    plt.figure(figsize=(8, 5))\n",
    "    plt.plot(val_dice, label='Validation Dice')\n",
    "    plt.xlabel(\"Epoch\")\n",
    "    plt.ylabel(\"Dice Coefficient\")\n",
    "    plt.title(f\"Validation Dice Curve ({name})\")\n",
    "    plt.legend()\n",
    "    plt.grid(True)\n",
    "    plt.savefig(f\"{name}_dice_plot.png\")\n",
    "    plt.show()\n"
   ]
  },
  {
   "cell_type": "markdown",
   "id": "4e7a9866",
   "metadata": {},
   "source": [
    "## 🧠 Train Both Models (100 Epochs Max + Early Stopping)"
   ]
  },
  {
   "cell_type": "code",
   "execution_count": null,
   "id": "4c7ec9e2",
   "metadata": {},
   "outputs": [],
   "source": [
    "train_model(UNet(), \"unet\")\n",
    "train_model(AttentionUNet(), \"attention_unet\")"
   ]
  },
  {
   "cell_type": "markdown",
   "id": "d5d163cf",
   "metadata": {},
   "source": [
    "## 📊 Plot Dice Score Over Epochs"
   ]
  },
  {
   "cell_type": "code",
   "execution_count": null,
   "id": "18353cf3",
   "metadata": {},
   "outputs": [],
   "source": [
    "# If you store dice per epoch above, you can plot:\n",
    "# plt.plot(train_dice, label='Train Dice')\n",
    "# plt.plot(val_dice, label='Val Dice')\n",
    "# plt.legend(); plt.xlabel('Epoch'); plt.ylabel('Dice'); plt.title('Training Curve'); plt.show()"
   ]
  },
  {
   "cell_type": "markdown",
   "id": "4ba92d40",
   "metadata": {},
   "source": [
    "## 🔍 Visualize Predictions"
   ]
  },
  {
   "cell_type": "code",
   "execution_count": null,
   "id": "a686bfe2",
   "metadata": {},
   "outputs": [],
   "source": [
    "def visualize_predictions(model_path, model_class):\n",
    "    model = model_class().to(DEVICE)\n",
    "    model.load_state_dict(torch.load(model_path))\n",
    "    model.eval()\n",
    "\n",
    "    x, y = next(iter(val_loader))\n",
    "    x, y = x.to(DEVICE), y.to(DEVICE)\n",
    "    with torch.no_grad():\n",
    "        pred = torch.argmax(model(x), dim=1)\n",
    "\n",
    "    plt.figure(figsize=(12, 4))\n",
    "    for i in range(3):\n",
    "        plt.subplot(3, 3, i*3+1); plt.imshow(x[i][0].cpu(), cmap='gray'); plt.title('Input')\n",
    "        plt.subplot(3, 3, i*3+2); plt.imshow(y[i].cpu(), cmap='gray'); plt.title('GT')\n",
    "        plt.subplot(3, 3, i*3+3); plt.imshow(pred[i].cpu(), cmap='gray'); plt.title('Prediction')\n",
    "    plt.tight_layout(); plt.show()\n",
    "\n",
    "visualize_predictions(\"unet_best.pth\", UNet)\n",
    "visualize_predictions(\"attention_unet_best.pth\", AttentionUNet)"
   ]
  },
  {
   "cell_type": "markdown",
   "id": "f9523198",
   "metadata": {},
   "source": [
    "## 💾 Export Models: TorchScript + ONNX"
   ]
  },
  {
   "cell_type": "code",
   "execution_count": null,
   "id": "ef72dbee",
   "metadata": {},
   "outputs": [],
   "source": [
    "dummy = torch.randn(1, 4, 256, 256).to(DEVICE)\n",
    "model = AttentionUNet().to(DEVICE)\n",
    "model.load_state_dict(torch.load(\"attention_unet_best.pth\"))\n",
    "torch.jit.trace(model, dummy).save(\"attention_unet.pt\")\n",
    "torch.onnx.export(model, dummy, \"attention_unet.onnx\", input_names=[\"input\"], output_names=[\"output\"], opset_version=11)\n",
    "print(\"✅ Exported to .pt and .onnx\")"
   ]
  },
  {
   "cell_type": "markdown",
   "id": "e91ea98c",
   "metadata": {},
   "source": [
    "## ✅ Summary & Deployment Tips\n",
    "- Best Dice model saved as `.pth`\n",
    "- Deployment-ready formats: `.pt` (TorchScript), `.onnx`\n",
    "- Use ONNX for ONNX Runtime, TensorRT, or OpenVINO.\n",
    "- Ideal for mobile, embedded, or web deployment.\n",
    "\n",
    "**Next step:** Try converting the ONNX model into TensorRT or integrating in a simple Flask demo."
   ]
  },
  {
   "cell_type": "markdown",
   "id": "f6392b0f",
   "metadata": {},
   "source": [
    "## 🧪 Advanced Data Augmentation with Albumentations\n",
    "We use Albumentations to apply more realistic and effective augmentations during training."
   ]
  },
  {
   "cell_type": "code",
   "execution_count": null,
   "id": "e228a519",
   "metadata": {},
   "outputs": [],
   "source": [
    "import albumentations as A\n",
    "from albumentations.pytorch import ToTensorV2\n",
    "import cv2\n",
    "\n",
    "class AugmentedBrainTumorDataset(Dataset):\n",
    "    def __init__(self, image_dir, mask_dir, augment=False):\n",
    "        self.image_paths = sorted(glob(os.path.join(image_dir, '*.npy')))\n",
    "        self.mask_paths = sorted(glob(os.path.join(mask_dir, '*.npy')))\n",
    "        self.augment = augment\n",
    "        self.transform = A.Compose([\n",
    "            A.HorizontalFlip(p=0.5),\n",
    "            A.VerticalFlip(p=0.5),\n",
    "            A.Rotate(limit=15, p=0.5),\n",
    "            A.RandomBrightnessContrast(p=0.5),\n",
    "            A.Normalize(),\n",
    "            ToTensorV2()\n",
    "        ])\n",
    "\n",
    "    def __len__(self):\n",
    "        return len(self.image_paths)\n",
    "\n",
    "    def __getitem__(self, idx):\n",
    "        image = np.load(self.image_paths[idx]).astype(np.float32)\n",
    "        mask = np.load(self.mask_paths[idx]).astype(np.uint8)\n",
    "        image = image.transpose(2, 0, 1)  # [C, H, W]\n",
    "        if self.augment:\n",
    "            augmented = self.transform(image=image.transpose(1, 2, 0), mask=mask)\n",
    "            image, mask = augmented['image'], augmented['mask']\n",
    "        else:\n",
    "            image = torch.tensor(image, dtype=torch.float32)\n",
    "            mask = torch.tensor(mask, dtype=torch.long)\n",
    "        return image, mask"
   ]
  },
  {
   "cell_type": "code",
   "execution_count": null,
   "id": "0c53b513",
   "metadata": {},
   "outputs": [
    {
     "ename": "SyntaxError",
     "evalue": "invalid syntax. Perhaps you forgot a comma? (1674785957.py, line 4)",
     "output_type": "error",
     "traceback": [
      "\u001b[1;36m  Cell \u001b[1;32mIn[1], line 4\u001b[1;36m\u001b[0m\n\u001b[1;33m    r\"D:\\Khedir-meriem-ESI-SBElAbes\\data\\input_data_4channels_z_score\\train\\masks\"\u001b[0m\n\u001b[1;37m    ^\u001b[0m\n\u001b[1;31mSyntaxError\u001b[0m\u001b[1;31m:\u001b[0m invalid syntax. Perhaps you forgot a comma?\n"
     ]
    }
   ],
   "source": [
    "# Replace old dataset and reload\n",
    "dataset = AugmentedBrainTumorDataset(\n",
    "    r\"D:\\Khedir-meriem-ESI-SBElAbes\\data\\input_data_4channels_z_score\\train\\images\",\n",
    "    r\"D:\\Khedir-meriem-ESI-SBElAbes\\data\\input_data_4channels_z_score\\train\\masks\",\n",
    "    augment=True\n",
    ")\n",
    "train_size = int(0.8 * len(dataset))\n",
    "val_size = len(dataset) - train_size\n",
    "train_set, val_set = random_split(dataset, [train_size, val_size])\n",
    "train_loader = DataLoader(train_set, batch_size=4, shuffle=True)\n",
    "val_loader = DataLoader(val_set, batch_size=4, shuffle=False)"
   ]
  },
  {
   "cell_type": "markdown",
   "id": "5d6cefa6",
   "metadata": {},
   "source": [
    "## 🔗 Ensemble Prediction: U-Net + Attention U-Net\n",
    "Combines predictions from both models to potentially improve segmentation accuracy."
   ]
  },
  {
   "cell_type": "code",
   "execution_count": null,
   "id": "6e349513",
   "metadata": {},
   "outputs": [],
   "source": [
    "def ensemble_predict(x):\n",
    "    model1 = UNet().to(DEVICE)\n",
    "    model1.load_state_dict(torch.load(\"unet_best.pth\"))\n",
    "    model2 = AttentionUNet().to(DEVICE)\n",
    "    model2.load_state_dict(torch.load(\"attention_unet_best.pth\"))\n",
    "    model1.eval(); model2.eval()\n",
    "\n",
    "    with torch.no_grad():\n",
    "        out1 = model1(x)\n",
    "        out2 = model2(x)\n",
    "        avg_out = (out1 + out2) / 2\n",
    "        pred = torch.argmax(avg_out, dim=1)\n",
    "    return pred"
   ]
  },
  {
   "cell_type": "code",
   "execution_count": null,
   "id": "ec4ccce5",
   "metadata": {},
   "outputs": [],
   "source": [
    "# Visualize ensemble prediction\n",
    "x, y = next(iter(val_loader))\n",
    "x, y = x.to(DEVICE), y.to(DEVICE)\n",
    "pred = ensemble_predict(x)\n",
    "\n",
    "plt.figure(figsize=(12, 4))\n",
    "for i in range(3):\n",
    "    plt.subplot(3, 3, i*3+1); plt.imshow(x[i][0].cpu(), cmap='gray'); plt.title('Input')\n",
    "    plt.subplot(3, 3, i*3+2); plt.imshow(y[i].cpu(), cmap='gray'); plt.title('Ground Truth')\n",
    "    plt.subplot(3, 3, i*3+3); plt.imshow(pred[i].cpu(), cmap='gray'); plt.title('Ensemble Pred')\n",
    "plt.tight_layout(); plt.show()"
   ]
  }
 ],
 "metadata": {
  "kernelspec": {
   "display_name": ".venv",
   "language": "python",
   "name": "python3"
  },
  "language_info": {
   "codemirror_mode": {
    "name": "ipython",
    "version": 3
   },
   "file_extension": ".py",
   "mimetype": "text/x-python",
   "name": "python",
   "nbconvert_exporter": "python",
   "pygments_lexer": "ipython3",
   "version": "3.10.11"
  }
 },
 "nbformat": 4,
 "nbformat_minor": 5
}
