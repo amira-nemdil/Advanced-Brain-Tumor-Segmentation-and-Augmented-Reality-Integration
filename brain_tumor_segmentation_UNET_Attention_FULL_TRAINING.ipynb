{
 "cells": [
  {
   "cell_type": "markdown",
   "id": "579c21af",
   "metadata": {},
   "source": [
    "# 🧠 Brain Tumor Segmentation with U-Net & Attention U-Net (Showcase Notebook)\n",
    "**Internship Project | Deep Learning | PyTorch**\n",
    "\n",
    "---\n",
    "This notebook demonstrates a full pipeline for brain tumor segmentation using U-Net and Attention U-Net.\n",
    "Includes full training loop, Dice metric, validation, visualizations, early stopping, learning rate scheduling,\n",
    "and export options for deployment.\n"
   ]
  },
  {
   "cell_type": "markdown",
   "id": "9a9c2d16",
   "metadata": {},
   "source": [
    "## ⚙️ Setup and Dependencies"
   ]
  },
  {
   "cell_type": "code",
   "execution_count": 2,
   "id": "1d69666d",
   "metadata": {},
   "outputs": [
    {
     "name": "stdout",
     "output_type": "stream",
     "text": [
      "✅ Using device: cuda\n"
     ]
    }
   ],
   "source": [
    "import os\n",
    "import numpy as np\n",
    "import torch\n",
    "import torch.nn as nn\n",
    "import torch.nn.functional as F\n",
    "from torch.utils.data import Dataset, DataLoader, random_split\n",
    "from glob import glob\n",
    "import matplotlib.pyplot as plt\n",
    "from tqdm import tqdm\n",
    "import random\n",
    "from torch.optim.lr_scheduler import ReduceLROnPlateau\n",
    "\n",
    "torch.manual_seed(42)\n",
    "np.random.seed(42)\n",
    "random.seed(42)\n",
    "DEVICE = torch.device('cuda' if torch.cuda.is_available() else 'cpu')\n",
    "print('✅ Using device:', DEVICE)"
   ]
  },
  {
   "cell_type": "code",
   "execution_count": 1,
   "id": "a955e0a2",
   "metadata": {},
   "outputs": [
    {
     "name": "stdout",
     "output_type": "stream",
     "text": [
      "CUDA available: True\n",
      "CUDA device: NVIDIA GeForce RTX 4080 Laptop GPU\n"
     ]
    }
   ],
   "source": [
    "import torch\n",
    "print(\"CUDA available:\", torch.cuda.is_available())\n",
    "print(\"CUDA device:\", torch.cuda.get_device_name(0) if torch.cuda.is_available() else \"None\")\n"
   ]
  },
  {
   "cell_type": "code",
   "execution_count": 3,
   "id": "b335f83c",
   "metadata": {},
   "outputs": [
    {
     "name": "stdout",
     "output_type": "stream",
     "text": [
      "NVIDIA GeForce RTX 4080 Laptop GPU\n"
     ]
    },
    {
     "ename": "NameError",
     "evalue": "name 'train_loader' is not defined",
     "output_type": "error",
     "traceback": [
      "\u001b[1;31m---------------------------------------------------------------------------\u001b[0m",
      "\u001b[1;31mNameError\u001b[0m                                 Traceback (most recent call last)",
      "Cell \u001b[1;32mIn[3], line 5\u001b[0m\n\u001b[0;32m      2\u001b[0m \u001b[38;5;28mprint\u001b[39m(torch\u001b[38;5;241m.\u001b[39mcuda\u001b[38;5;241m.\u001b[39mget_device_name(\u001b[38;5;241m0\u001b[39m))\n\u001b[0;32m      4\u001b[0m \u001b[38;5;66;03m# Confirm one batch\u001b[39;00m\n\u001b[1;32m----> 5\u001b[0m \u001b[38;5;28;01mfor\u001b[39;00m images, masks \u001b[38;5;129;01min\u001b[39;00m \u001b[43mtrain_loader\u001b[49m:\n\u001b[0;32m      6\u001b[0m     \u001b[38;5;28mprint\u001b[39m(images\u001b[38;5;241m.\u001b[39mshape, masks\u001b[38;5;241m.\u001b[39mshape)\n\u001b[0;32m      7\u001b[0m     \u001b[38;5;28;01mbreak\u001b[39;00m\n",
      "\u001b[1;31mNameError\u001b[0m: name 'train_loader' is not defined"
     ]
    }
   ],
   "source": [
    "# Confirm GPU\n",
    "print(torch.cuda.get_device_name(0))\n",
    "\n",
    "# Confirm one batch\n",
    "for images, masks in train_loader:\n",
    "    print(images.shape, masks.shape)\n",
    "    break\n",
    "\n",
    "# Confirm model forward\n",
    "model = UNet().to(DEVICE)\n",
    "print(model(torch.randn(1, 1, 256, 256).to(DEVICE)).shape)\n"
   ]
  },
  {
   "cell_type": "markdown",
   "id": "44235593",
   "metadata": {},
   "source": [
    "## 📂 Dataset: 4-Channel MRI Loader (.npy format)\n",
    "Each image is a 4-channel MRI slice saved as `.npy` (shape: HxWx4), and the mask is a 2D array with integer labels."
   ]
  },
  {
   "cell_type": "code",
   "execution_count": 4,
   "id": "73d72b2c",
   "metadata": {},
   "outputs": [],
   "source": [
    "class BrainTumorDataset(Dataset):\n",
    "    def __init__(self, image_dir, mask_dir):\n",
    "        self.image_paths = sorted(glob(os.path.join(image_dir, '*.npy')))\n",
    "        self.mask_paths = sorted(glob(os.path.join(mask_dir, '*.npy')))\n",
    "\n",
    "    def __len__(self):\n",
    "        return len(self.image_paths)\n",
    "\n",
    "    def __getitem__(self, idx):\n",
    "        image = np.load(self.image_paths[idx])\n",
    "        mask = np.load(self.mask_paths[idx])\n",
    "        image = torch.tensor(image, dtype=torch.float32).permute(2, 0, 1)\n",
    "        mask = torch.tensor(mask, dtype=torch.long)\n",
    "        return image, mask"
   ]
  },
  {
   "cell_type": "markdown",
   "id": "b2e02d3e",
   "metadata": {},
   "source": [
    "## 🧠 U-Net and Attention U-Net Architectures"
   ]
  },
  {
   "cell_type": "code",
   "execution_count": 5,
   "id": "067b478f",
   "metadata": {},
   "outputs": [],
   "source": [
    "class UNet(nn.Module):\n",
    "    def __init__(self, in_channels=4, out_channels=2):\n",
    "        super(UNet, self).__init__()\n",
    "        def conv_block(in_c, out_c):\n",
    "            return nn.Sequential(\n",
    "                nn.Conv2d(in_c, out_c, 3, padding=1), nn.BatchNorm2d(out_c), nn.ReLU(),\n",
    "                nn.Conv2d(out_c, out_c, 3, padding=1), nn.BatchNorm2d(out_c), nn.ReLU())\n",
    "        self.enc1 = conv_block(in_channels, 64)\n",
    "        self.pool1 = nn.MaxPool2d(2)\n",
    "        self.enc2 = conv_block(64, 128)\n",
    "        self.pool2 = nn.MaxPool2d(2)\n",
    "        self.bottleneck = conv_block(128, 256)\n",
    "        self.up2 = nn.ConvTranspose2d(256, 128, 2, 2)\n",
    "        self.dec2 = conv_block(256, 128)\n",
    "        self.up1 = nn.ConvTranspose2d(128, 64, 2, 2)\n",
    "        self.dec1 = conv_block(128, 64)\n",
    "        self.output = nn.Conv2d(64, out_channels, 1)\n",
    "\n",
    "    def forward(self, x):\n",
    "        e1 = self.enc1(x)\n",
    "        e2 = self.enc2(self.pool1(e1))\n",
    "        b = self.bottleneck(self.pool2(e2))\n",
    "        d2 = self.dec2(torch.cat([self.up2(b), e2], dim=1))\n",
    "        d1 = self.dec1(torch.cat([self.up1(d2), e1], dim=1))\n",
    "        return self.output(d1)"
   ]
  },
  {
   "cell_type": "code",
   "execution_count": 6,
   "id": "1de6f059",
   "metadata": {},
   "outputs": [],
   "source": [
    "class AttentionBlock(nn.Module):\n",
    "    def __init__(self, F_g, F_l, F_int):\n",
    "        super(AttentionBlock, self).__init__()\n",
    "        self.W_g = nn.Sequential(nn.Conv2d(F_g, F_int, 1), nn.BatchNorm2d(F_int))\n",
    "        self.W_x = nn.Sequential(nn.Conv2d(F_l, F_int, 1), nn.BatchNorm2d(F_int))\n",
    "        self.psi = nn.Sequential(nn.Conv2d(F_int, 1, 1), nn.BatchNorm2d(1), nn.Sigmoid())\n",
    "        self.relu = nn.ReLU(inplace=True)\n",
    "\n",
    "    def forward(self, g, x):\n",
    "        return x * self.psi(self.relu(self.W_g(g) + self.W_x(x)))"
   ]
  },
  {
   "cell_type": "code",
   "execution_count": 7,
   "id": "510d9d3d",
   "metadata": {},
   "outputs": [],
   "source": [
    "class AttentionUNet(nn.Module):\n",
    "    def __init__(self, in_channels=4, out_channels=2):\n",
    "        super(AttentionUNet, self).__init__()\n",
    "        def conv_block(in_c, out_c):\n",
    "            return nn.Sequential(\n",
    "                nn.Conv2d(in_c, out_c, 3, padding=1), nn.BatchNorm2d(out_c), nn.ReLU(),\n",
    "                nn.Conv2d(out_c, out_c, 3, padding=1), nn.BatchNorm2d(out_c), nn.ReLU())\n",
    "        self.enc1 = conv_block(in_channels, 64)\n",
    "        self.pool1 = nn.MaxPool2d(2)\n",
    "        self.enc2 = conv_block(64, 128)\n",
    "        self.pool2 = nn.MaxPool2d(2)\n",
    "        self.bottleneck = conv_block(128, 256)\n",
    "        self.up2 = nn.ConvTranspose2d(256, 128, 2, 2)\n",
    "        self.att2 = AttentionBlock(128, 128, 64)\n",
    "        self.dec2 = conv_block(256, 128)\n",
    "        self.up1 = nn.ConvTranspose2d(128, 64, 2, 2)\n",
    "        self.att1 = AttentionBlock(64, 64, 32)\n",
    "        self.dec1 = conv_block(128, 64)\n",
    "        self.output = nn.Conv2d(64, out_channels, 1)\n",
    "\n",
    "    def forward(self, x):\n",
    "        e1 = self.enc1(x)\n",
    "        e2 = self.enc2(self.pool1(e1))\n",
    "        b = self.bottleneck(self.pool2(e2))\n",
    "        d2 = self.up2(b); d2 = self.att2(g=d2, x=e2); d2 = self.dec2(torch.cat([d2, e2], dim=1))\n",
    "        d1 = self.up1(d2); d1 = self.att1(g=d1, x=e1); d1 = self.dec1(torch.cat([d1, e1], dim=1))\n",
    "        return self.output(d1)"
   ]
  },
  {
   "cell_type": "markdown",
   "id": "823361e3",
   "metadata": {},
   "source": [
    "## 🔀 Dataset Split: Train & Validation\n",
    "We use an 80/20 split to train and evaluate performance."
   ]
  },
  {
   "cell_type": "code",
   "execution_count": 8,
   "id": "27317d07",
   "metadata": {},
   "outputs": [
    {
     "ename": "ValueError",
     "evalue": "num_samples should be a positive integer value, but got num_samples=0",
     "output_type": "error",
     "traceback": [
      "\u001b[1;31m---------------------------------------------------------------------------\u001b[0m",
      "\u001b[1;31mValueError\u001b[0m                                Traceback (most recent call last)",
      "Cell \u001b[1;32mIn[8], line 9\u001b[0m\n\u001b[0;32m      7\u001b[0m val_size \u001b[38;5;241m=\u001b[39m \u001b[38;5;28mlen\u001b[39m(dataset) \u001b[38;5;241m-\u001b[39m train_size\n\u001b[0;32m      8\u001b[0m train_set, val_set \u001b[38;5;241m=\u001b[39m random_split(dataset, [train_size, val_size])\n\u001b[1;32m----> 9\u001b[0m train_loader \u001b[38;5;241m=\u001b[39m \u001b[43mDataLoader\u001b[49m\u001b[43m(\u001b[49m\u001b[43mtrain_set\u001b[49m\u001b[43m,\u001b[49m\u001b[43m \u001b[49m\u001b[43mbatch_size\u001b[49m\u001b[38;5;241;43m=\u001b[39;49m\u001b[38;5;241;43m4\u001b[39;49m\u001b[43m,\u001b[49m\u001b[43m \u001b[49m\u001b[43mshuffle\u001b[49m\u001b[38;5;241;43m=\u001b[39;49m\u001b[38;5;28;43;01mTrue\u001b[39;49;00m\u001b[43m)\u001b[49m\n\u001b[0;32m     10\u001b[0m val_loader \u001b[38;5;241m=\u001b[39m DataLoader(val_set, batch_size\u001b[38;5;241m=\u001b[39m\u001b[38;5;241m4\u001b[39m, shuffle\u001b[38;5;241m=\u001b[39m\u001b[38;5;28;01mFalse\u001b[39;00m)\n\u001b[0;32m     11\u001b[0m \u001b[38;5;28mprint\u001b[39m(\u001b[38;5;124mf\u001b[39m\u001b[38;5;124m\"\u001b[39m\u001b[38;5;124mTrain: \u001b[39m\u001b[38;5;132;01m{\u001b[39;00m\u001b[38;5;28mlen\u001b[39m(train_set)\u001b[38;5;132;01m}\u001b[39;00m\u001b[38;5;124m | Validation: \u001b[39m\u001b[38;5;132;01m{\u001b[39;00m\u001b[38;5;28mlen\u001b[39m(val_set)\u001b[38;5;132;01m}\u001b[39;00m\u001b[38;5;124m\"\u001b[39m)\n",
      "File \u001b[1;32mc:\\Advanced Brain Tumor Segmentation and Augmented Reality Integration\\.venv\\lib\\site-packages\\torch\\utils\\data\\dataloader.py:351\u001b[0m, in \u001b[0;36mDataLoader.__init__\u001b[1;34m(self, dataset, batch_size, shuffle, sampler, batch_sampler, num_workers, collate_fn, pin_memory, drop_last, timeout, worker_init_fn, multiprocessing_context, generator, prefetch_factor, persistent_workers, pin_memory_device)\u001b[0m\n\u001b[0;32m    349\u001b[0m \u001b[38;5;28;01melse\u001b[39;00m:  \u001b[38;5;66;03m# map-style\u001b[39;00m\n\u001b[0;32m    350\u001b[0m     \u001b[38;5;28;01mif\u001b[39;00m shuffle:\n\u001b[1;32m--> 351\u001b[0m         sampler \u001b[38;5;241m=\u001b[39m \u001b[43mRandomSampler\u001b[49m\u001b[43m(\u001b[49m\u001b[43mdataset\u001b[49m\u001b[43m,\u001b[49m\u001b[43m \u001b[49m\u001b[43mgenerator\u001b[49m\u001b[38;5;241;43m=\u001b[39;49m\u001b[43mgenerator\u001b[49m\u001b[43m)\u001b[49m  \u001b[38;5;66;03m# type: ignore[arg-type]\u001b[39;00m\n\u001b[0;32m    352\u001b[0m     \u001b[38;5;28;01melse\u001b[39;00m:\n\u001b[0;32m    353\u001b[0m         sampler \u001b[38;5;241m=\u001b[39m SequentialSampler(dataset)  \u001b[38;5;66;03m# type: ignore[arg-type]\u001b[39;00m\n",
      "File \u001b[1;32mc:\\Advanced Brain Tumor Segmentation and Augmented Reality Integration\\.venv\\lib\\site-packages\\torch\\utils\\data\\sampler.py:107\u001b[0m, in \u001b[0;36mRandomSampler.__init__\u001b[1;34m(self, data_source, replacement, num_samples, generator)\u001b[0m\n\u001b[0;32m    103\u001b[0m     \u001b[38;5;28;01mraise\u001b[39;00m \u001b[38;5;167;01mTypeError\u001b[39;00m(\u001b[38;5;124m\"\u001b[39m\u001b[38;5;124mreplacement should be a boolean value, but got \u001b[39m\u001b[38;5;124m\"\u001b[39m\n\u001b[0;32m    104\u001b[0m                     \u001b[38;5;124m\"\u001b[39m\u001b[38;5;124mreplacement=\u001b[39m\u001b[38;5;132;01m{}\u001b[39;00m\u001b[38;5;124m\"\u001b[39m\u001b[38;5;241m.\u001b[39mformat(\u001b[38;5;28mself\u001b[39m\u001b[38;5;241m.\u001b[39mreplacement))\n\u001b[0;32m    106\u001b[0m \u001b[38;5;28;01mif\u001b[39;00m \u001b[38;5;129;01mnot\u001b[39;00m \u001b[38;5;28misinstance\u001b[39m(\u001b[38;5;28mself\u001b[39m\u001b[38;5;241m.\u001b[39mnum_samples, \u001b[38;5;28mint\u001b[39m) \u001b[38;5;129;01mor\u001b[39;00m \u001b[38;5;28mself\u001b[39m\u001b[38;5;241m.\u001b[39mnum_samples \u001b[38;5;241m<\u001b[39m\u001b[38;5;241m=\u001b[39m \u001b[38;5;241m0\u001b[39m:\n\u001b[1;32m--> 107\u001b[0m     \u001b[38;5;28;01mraise\u001b[39;00m \u001b[38;5;167;01mValueError\u001b[39;00m(\u001b[38;5;124m\"\u001b[39m\u001b[38;5;124mnum_samples should be a positive integer \u001b[39m\u001b[38;5;124m\"\u001b[39m\n\u001b[0;32m    108\u001b[0m                      \u001b[38;5;124m\"\u001b[39m\u001b[38;5;124mvalue, but got num_samples=\u001b[39m\u001b[38;5;132;01m{}\u001b[39;00m\u001b[38;5;124m\"\u001b[39m\u001b[38;5;241m.\u001b[39mformat(\u001b[38;5;28mself\u001b[39m\u001b[38;5;241m.\u001b[39mnum_samples))\n",
      "\u001b[1;31mValueError\u001b[0m: num_samples should be a positive integer value, but got num_samples=0"
     ]
    }
   ],
   "source": [
    "dataset = BrainTumorDataset(\n",
    "    r\"D:\\\\Khedir-meriem-ESI-SBEIAbes\\\\data\\\\input_data_4channels_z_score\\\\train\\\\images\",\n",
    "    r\"D:\\\\Khedir-meriem-ESI-SBEIAbes\\\\data\\\\input_data_4channels_z_score\\\\train\\\\masks\"\n",
    ")\n",
    "\n",
    "train_size = int(0.8 * len(dataset))\n",
    "val_size = len(dataset) - train_size\n",
    "train_set, val_set = random_split(dataset, [train_size, val_size])\n",
    "train_loader = DataLoader(train_set, batch_size=4, shuffle=True)\n",
    "val_loader = DataLoader(val_set, batch_size=4, shuffle=False)\n",
    "print(f\"Train: {len(train_set)} | Validation: {len(val_set)}\")"
   ]
  },
  {
   "cell_type": "markdown",
   "id": "b0c1ed8a",
   "metadata": {},
   "source": [
    "## 📐 Dice Coefficient Metric\n",
    "Used to evaluate how well the predicted segmentation matches the ground truth."
   ]
  },
  {
   "cell_type": "code",
   "execution_count": null,
   "id": "a97e4fc7",
   "metadata": {},
   "outputs": [],
   "source": [
    "def dice_coeff(pred, target, epsilon=1e-6):\n",
    "    pred = pred.contiguous().view(-1)\n",
    "    target = target.contiguous().view(-1)\n",
    "    intersection = (pred * target).sum()\n",
    "    return (2. * intersection + epsilon) / (pred.sum() + target.sum() + epsilon)"
   ]
  },
  {
   "cell_type": "markdown",
   "id": "137c48c9",
   "metadata": {},
   "source": [
    "## 🧪 Training Function (AMP + EarlyStopping + Scheduler)"
   ]
  },
  {
   "cell_type": "code",
   "execution_count": null,
   "id": "e013f100",
   "metadata": {},
   "outputs": [],
   "source": [
    "from torch.cuda.amp import autocast, GradScaler\n",
    "\n",
    "def train_model(model, name):\n",
    "    model = model.to(DEVICE)\n",
    "    optimizer = torch.optim.Adam(model.parameters(), lr=1e-4)\n",
    "    scheduler = ReduceLROnPlateau(optimizer, 'min', patience=5, verbose=True)\n",
    "    criterion = nn.CrossEntropyLoss()\n",
    "\n",
    "    scaler = GradScaler()\n",
    "    best_dice = 0\n",
    "    patience = 10\n",
    "    trigger = 0\n",
    "    train_dice, val_dice = [], []\n",
    "\n",
    "    for epoch in range(1, 101):\n",
    "        model.train()\n",
    "        total_loss = 0\n",
    "        for x, y in tqdm(train_loader, desc=f\"Epoch {epoch}\"):\n",
    "            x, y = x.to(DEVICE), y.to(DEVICE)\n",
    "            optimizer.zero_grad()\n",
    "\n",
    "            with autocast():  # Mixed precision training\n",
    "                out = model(x)\n",
    "                loss = criterion(out, y)\n",
    "\n",
    "            scaler.scale(loss).backward()\n",
    "            scaler.step(optimizer)\n",
    "            scaler.update()\n",
    "\n",
    "            total_loss += loss.item()\n",
    "\n",
    "        # Validation\n",
    "        model.eval()\n",
    "        dice = 0\n",
    "        with torch.no_grad():\n",
    "            for x, y in val_loader:\n",
    "                x, y = x.to(DEVICE), y.to(DEVICE)\n",
    "                with autocast():  # Use AMP for inference too\n",
    "                    pred = torch.argmax(model(x), dim=1)\n",
    "                dice += dice_coeff(pred.cpu(), y.cpu())\n",
    "        avg_dice = dice / len(val_loader)\n",
    "        val_dice.append(avg_dice.item())\n",
    "\n",
    "        print(f\"[{name}] Epoch {epoch}, Loss: {total_loss:.4f}, Val Dice: {avg_dice:.4f}\")\n",
    "        scheduler.step(total_loss)\n",
    "\n",
    "        if avg_dice > best_dice:\n",
    "            best_dice = avg_dice\n",
    "            torch.save(model.state_dict(), f\"{name}_best.pth\")\n",
    "            print(f\"✅ Saved best model with Dice: {best_dice:.4f}\")\n",
    "            trigger = 0\n",
    "        else:\n",
    "            trigger += 1\n",
    "            if trigger >= patience:\n",
    "                print(\"⏹️ Early stopping triggered.\")\n",
    "                break\n"
   ]
  },
  {
   "cell_type": "markdown",
   "id": "0a2d94a0",
   "metadata": {},
   "source": [
    "## 🧠 Train Both Models (100 Epochs Max + Early Stopping)"
   ]
  },
  {
   "cell_type": "code",
   "execution_count": null,
   "id": "5916089b",
   "metadata": {},
   "outputs": [],
   "source": [
    "train_model(UNet(), \"unet\")\n",
    "train_model(AttentionUNet(), \"attention_unet\")"
   ]
  },
  {
   "cell_type": "markdown",
   "id": "bbee0506",
   "metadata": {},
   "source": [
    "## 📊 Plot Dice Score Over Epochs"
   ]
  },
  {
   "cell_type": "code",
   "execution_count": null,
   "id": "b94f1df5",
   "metadata": {},
   "outputs": [],
   "source": [
    "# If you store dice per epoch above, you can plot:\n",
    "# plt.plot(train_dice, label='Train Dice')\n",
    "# plt.plot(val_dice, label='Val Dice')\n",
    "# plt.legend(); plt.xlabel('Epoch'); plt.ylabel('Dice'); plt.title('Training Curve'); plt.show()"
   ]
  },
  {
   "cell_type": "markdown",
   "id": "34b165cb",
   "metadata": {},
   "source": [
    "## 🔍 Visualize Predictions"
   ]
  },
  {
   "cell_type": "code",
   "execution_count": null,
   "id": "3c9a44da",
   "metadata": {},
   "outputs": [],
   "source": [
    "def visualize_predictions(model_path, model_class):\n",
    "    model = model_class().to(DEVICE)\n",
    "    model.load_state_dict(torch.load(model_path))\n",
    "    model.eval()\n",
    "\n",
    "    x, y = next(iter(val_loader))\n",
    "    x, y = x.to(DEVICE), y.to(DEVICE)\n",
    "    with torch.no_grad():\n",
    "        pred = torch.argmax(model(x), dim=1)\n",
    "\n",
    "    plt.figure(figsize=(12, 4))\n",
    "    for i in range(3):\n",
    "        plt.subplot(3, 3, i*3+1); plt.imshow(x[i][0].cpu(), cmap='gray'); plt.title('Input')\n",
    "        plt.subplot(3, 3, i*3+2); plt.imshow(y[i].cpu(), cmap='gray'); plt.title('GT')\n",
    "        plt.subplot(3, 3, i*3+3); plt.imshow(pred[i].cpu(), cmap='gray'); plt.title('Prediction')\n",
    "    plt.tight_layout(); plt.show()\n",
    "\n",
    "visualize_predictions(\"unet_best.pth\", UNet)\n",
    "visualize_predictions(\"attention_unet_best.pth\", AttentionUNet)"
   ]
  },
  {
   "cell_type": "markdown",
   "id": "8c20f766",
   "metadata": {},
   "source": [
    "## 💾 Export Models: TorchScript + ONNX"
   ]
  },
  {
   "cell_type": "code",
   "execution_count": null,
   "id": "3305eb5e",
   "metadata": {},
   "outputs": [],
   "source": [
    "dummy = torch.randn(1, 4, 256, 256).to(DEVICE)\n",
    "model = AttentionUNet().to(DEVICE)\n",
    "model.load_state_dict(torch.load(\"attention_unet_best.pth\"))\n",
    "torch.jit.trace(model, dummy).save(\"attention_unet.pt\")\n",
    "torch.onnx.export(model, dummy, \"attention_unet.onnx\", input_names=[\"input\"], output_names=[\"output\"], opset_version=11)\n",
    "print(\"✅ Exported to .pt and .onnx\")"
   ]
  },
  {
   "cell_type": "markdown",
   "id": "8b26ebf2",
   "metadata": {},
   "source": [
    "## ✅ Summary & Deployment Tips\n",
    "- Best Dice model saved as `.pth`\n",
    "- Deployment-ready formats: `.pt` (TorchScript), `.onnx`\n",
    "- Use ONNX for ONNX Runtime, TensorRT, or OpenVINO.\n",
    "- Ideal for mobile, embedded, or web deployment.\n",
    "\n",
    "**Next step:** Try converting the ONNX model into TensorRT or integrating in a simple Flask demo."
   ]
  },
  {
   "cell_type": "markdown",
   "id": "494dd79a",
   "metadata": {},
   "source": [
    "## 🧪 Advanced Data Augmentation with Albumentations\n",
    "We use Albumentations to apply more realistic and effective augmentations during training."
   ]
  },
  {
   "cell_type": "code",
   "execution_count": null,
   "id": "8dde4715",
   "metadata": {},
   "outputs": [],
   "source": [
    "import albumentations as A\n",
    "from albumentations.pytorch import ToTensorV2\n",
    "import cv2\n",
    "\n",
    "class AugmentedBrainTumorDataset(Dataset):\n",
    "    def __init__(self, image_dir, mask_dir, augment=False):\n",
    "        self.image_paths = sorted(glob(os.path.join(image_dir, '*.npy')))\n",
    "        self.mask_paths = sorted(glob(os.path.join(mask_dir, '*.npy')))\n",
    "        self.augment = augment\n",
    "        self.transform = A.Compose([\n",
    "            A.HorizontalFlip(p=0.5),\n",
    "            A.VerticalFlip(p=0.5),\n",
    "            A.Rotate(limit=15, p=0.5),\n",
    "            A.RandomBrightnessContrast(p=0.5),\n",
    "            A.Normalize(),\n",
    "            ToTensorV2()\n",
    "        ])\n",
    "\n",
    "    def __len__(self):\n",
    "        return len(self.image_paths)\n",
    "\n",
    "    def __getitem__(self, idx):\n",
    "        image = np.load(self.image_paths[idx]).astype(np.float32)\n",
    "        mask = np.load(self.mask_paths[idx]).astype(np.uint8)\n",
    "        image = image.transpose(2, 0, 1)  # [C, H, W]\n",
    "        if self.augment:\n",
    "            augmented = self.transform(image=image.transpose(1, 2, 0), mask=mask)\n",
    "            image, mask = augmented['image'], augmented['mask']\n",
    "        else:\n",
    "            image = torch.tensor(image, dtype=torch.float32)\n",
    "            mask = torch.tensor(mask, dtype=torch.long)\n",
    "        return image, mask"
   ]
  },
  {
   "cell_type": "code",
   "execution_count": null,
   "id": "1556c24b",
   "metadata": {},
   "outputs": [],
   "source": [
    "# Replace old dataset and reload\n",
    "dataset = AugmentedBrainTumorDataset(\n",
    "    r\"D:\\\\Khedir-meriem-ESI-SBEIAbes\\\\data\\\\input_data_4channels_z_score\\\\train\\\\images\",\n",
    "    r\"D:\\\\Khedir-meriem-ESI-SBEIAbes\\\\data\\\\input_data_4channels_z_score\\\\train\\\\masks\",\n",
    "    augment=True\n",
    ")\n",
    "train_size = int(0.8 * len(dataset))\n",
    "val_size = len(dataset) - train_size\n",
    "train_set, val_set = random_split(dataset, [train_size, val_size])\n",
    "train_loader = DataLoader(train_set, batch_size=4, shuffle=True)\n",
    "val_loader = DataLoader(val_set, batch_size=4, shuffle=False)"
   ]
  },
  {
   "cell_type": "markdown",
   "id": "c7b86719",
   "metadata": {},
   "source": [
    "## 🔗 Ensemble Prediction: U-Net + Attention U-Net\n",
    "Combines predictions from both models to potentially improve segmentation accuracy."
   ]
  },
  {
   "cell_type": "code",
   "execution_count": null,
   "id": "8d5e4b6b",
   "metadata": {},
   "outputs": [],
   "source": [
    "def ensemble_predict(x):\n",
    "    model1 = UNet().to(DEVICE)\n",
    "    model1.load_state_dict(torch.load(\"unet_best.pth\"))\n",
    "    model2 = AttentionUNet().to(DEVICE)\n",
    "    model2.load_state_dict(torch.load(\"attention_unet_best.pth\"))\n",
    "    model1.eval(); model2.eval()\n",
    "\n",
    "    with torch.no_grad():\n",
    "        out1 = model1(x)\n",
    "        out2 = model2(x)\n",
    "        avg_out = (out1 + out2) / 2\n",
    "        pred = torch.argmax(avg_out, dim=1)\n",
    "    return pred"
   ]
  },
  {
   "cell_type": "code",
   "execution_count": null,
   "id": "f26fd11f",
   "metadata": {},
   "outputs": [],
   "source": [
    "# Visualize ensemble prediction\n",
    "x, y = next(iter(val_loader))\n",
    "x, y = x.to(DEVICE), y.to(DEVICE)\n",
    "pred = ensemble_predict(x)\n",
    "\n",
    "plt.figure(figsize=(12, 4))\n",
    "for i in range(3):\n",
    "    plt.subplot(3, 3, i*3+1); plt.imshow(x[i][0].cpu(), cmap='gray'); plt.title('Input')\n",
    "    plt.subplot(3, 3, i*3+2); plt.imshow(y[i].cpu(), cmap='gray'); plt.title('Ground Truth')\n",
    "    plt.subplot(3, 3, i*3+3); plt.imshow(pred[i].cpu(), cmap='gray'); plt.title('Ensemble Pred')\n",
    "plt.tight_layout(); plt.show()"
   ]
  }
 ],
 "metadata": {
  "kernelspec": {
   "display_name": ".venv",
   "language": "python",
   "name": "python3"
  },
  "language_info": {
   "codemirror_mode": {
    "name": "ipython",
    "version": 3
   },
   "file_extension": ".py",
   "mimetype": "text/x-python",
   "name": "python",
   "nbconvert_exporter": "python",
   "pygments_lexer": "ipython3",
   "version": "3.10.11"
  }
 },
 "nbformat": 4,
 "nbformat_minor": 5
}
