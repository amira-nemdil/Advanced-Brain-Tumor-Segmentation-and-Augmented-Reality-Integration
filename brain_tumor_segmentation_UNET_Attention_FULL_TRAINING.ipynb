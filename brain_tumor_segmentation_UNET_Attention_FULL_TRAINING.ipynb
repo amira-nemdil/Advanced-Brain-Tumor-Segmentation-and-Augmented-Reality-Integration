{
 "cells": [
  {
   "cell_type": "markdown",
   "id": "579c21af",
   "metadata": {},
   "source": [
    "# 🧠 Brain Tumor Segmentation Using 3D U-Net and Attention U-Net (PyTorch)\n",
    "### Advanced Deep Learning Pipeline for MRI Segmentation\n",
    "\n",
    "This notebook presents a complete deep learning pipeline for 3D brain tumor segmentation from MRI images using U-Net and Attention U-Net architectures.\n",
    "\n",
    "**Features:**\n",
    "- Data preprocessing and loading for multi-modal MRI\n",
    "- Custom PyTorch dataset and data loader\n",
    "- Implementation of U-Net and Attention U-Net\n",
    "- Advanced training loop with early stopping and learning rate scheduling\n",
    "- Quantitative evaluation (Dice, loss curves) and qualitative visualizations\n",
    "- Easily adaptable for research, internship, and clinical exploration\n",
    "\n",
    "----\n"
   ]
  },
  {
   "cell_type": "markdown",
   "id": "9a9c2d16",
   "metadata": {},
   "source": [
    "## ⚙️ Setup and Dependencies"
   ]
  },
  {
   "cell_type": "code",
   "execution_count": 1,
   "id": "1d69666d",
   "metadata": {},
   "outputs": [
    {
     "name": "stdout",
     "output_type": "stream",
     "text": [
      "✅ Using device: cuda\n"
     ]
    }
   ],
   "source": [
    "import os\n",
    "import numpy as np\n",
    "import torch\n",
    "import torch.nn as nn\n",
    "import torch.nn.functional as F\n",
    "from torch.utils.data import Dataset, DataLoader, random_split\n",
    "from glob import glob\n",
    "import matplotlib.pyplot as plt\n",
    "from tqdm import tqdm\n",
    "import random\n",
    "from torch.optim.lr_scheduler import ReduceLROnPlateau\n",
    "\n",
    "torch.manual_seed(42)\n",
    "np.random.seed(42)\n",
    "random.seed(42)\n",
    "DEVICE = torch.device('cuda' if torch.cuda.is_available() else 'cpu')\n",
    "print('✅ Using device:', DEVICE)"
   ]
  },
  {
   "cell_type": "code",
   "execution_count": 2,
   "id": "a955e0a2",
   "metadata": {},
   "outputs": [
    {
     "name": "stdout",
     "output_type": "stream",
     "text": [
      "✅ CUDA available: True\n",
      "🧠 Device: cuda\n"
     ]
    }
   ],
   "source": [
    "import torch\n",
    "\n",
    "DEVICE = torch.device(\"cuda\" if torch.cuda.is_available() else \"cpu\")\n",
    "print(\"✅ CUDA available:\", torch.cuda.is_available())\n",
    "print(\"🧠 Device:\", DEVICE)\n"
   ]
  },
  {
   "cell_type": "markdown",
   "id": "44235593",
   "metadata": {},
   "source": [
    "## 📂 Dataset: 4-Channel MRI Loader (.npy format)\n",
    "Each image is a 4-channel MRI slice saved as `.npy` (shape: HxWx4)\n",
    "\n",
    "Each mask is a 2D array (HxW) with integer labels (e.g., 0 = background, 1 = tumor)"
   ]
  },
  {
   "cell_type": "code",
   "execution_count": 3,
   "id": "73d72b2c",
   "metadata": {},
   "outputs": [],
   "source": [
    "from torch.utils.data import Dataset, DataLoader, random_split\n",
    "import numpy as np\n",
    "import torch\n",
    "import os\n",
    "\n",
    "class BrainTumorDataset(Dataset):\n",
    "    def __init__(self, image_dir, mask_dir):\n",
    "        self.image_dir = image_dir\n",
    "        self.mask_dir = mask_dir\n",
    "\n",
    "        if not os.path.isdir(image_dir):\n",
    "            raise FileNotFoundError(f\"Image directory not found: {image_dir}\")\n",
    "        if not os.path.isdir(mask_dir):\n",
    "            raise FileNotFoundError(f\"Mask directory not found: {mask_dir}\")\n",
    "\n",
    "        self.image_files = sorted([f for f in os.listdir(image_dir) if f.endswith(\".npy\")])\n",
    "        self.mask_files  = sorted([f.replace(\"image_\", \"mask_\") for f in self.image_files])\n",
    "\n",
    "    def __len__(self):\n",
    "        return len(self.image_files)\n",
    "\n",
    "    def __getitem__(self, idx):\n",
    "        image_path = os.path.join(self.image_dir, self.image_files[idx])\n",
    "        mask_path  = os.path.join(self.mask_dir,  self.mask_files[idx])\n",
    "\n",
    "        image = np.load(image_path)  # shape: (C, D, H, W) or (D, H, W, C) or similar\n",
    "        mask  = np.load(mask_path)   # shape: (D, H, W)\n",
    "\n",
    "        # If image is (D, H, W, C), move channels to front\n",
    "        if image.shape[-1] == 4:     # (D, H, W, C)\n",
    "            image = np.moveaxis(image, -1, 0)  # (C, D, H, W)\n",
    "\n",
    "        image = torch.tensor(image, dtype=torch.float32)\n",
    "        mask  = torch.tensor(mask, dtype=torch.long)\n",
    "\n",
    "        return image, mask\n"
   ]
  },
  {
   "cell_type": "markdown",
   "id": "b2e02d3e",
   "metadata": {},
   "source": [
    "## 🧠 U-Net 3D and Attention U-Net3D Architectures"
   ]
  },
  {
   "cell_type": "code",
   "execution_count": 4,
   "id": "a744af49",
   "metadata": {},
   "outputs": [],
   "source": [
    "import torch.nn as nn\n",
    "\n",
    "class UNet3D(nn.Module):\n",
    "    def __init__(self, in_channels=4, out_channels=3, features=[32, 64, 128, 256]):\n",
    "        super(UNet3D, self).__init__()\n",
    "        self.encoder = nn.ModuleList()\n",
    "        self.decoder = nn.ModuleList()\n",
    "        for feature in features:\n",
    "            self.encoder.append(self._block(in_channels, feature))\n",
    "            in_channels = feature\n",
    "        self.bottleneck = self._block(features[-1], features[-1]*2)\n",
    "        for feature in reversed(features):\n",
    "            self.decoder.append(nn.ConvTranspose3d(feature*2, feature, kernel_size=2, stride=2))\n",
    "            self.decoder.append(self._block(feature*2, feature))\n",
    "        self.final_conv = nn.Conv3d(features[0], out_channels, kernel_size=1)\n",
    "        self.pool = nn.MaxPool3d(kernel_size=2, stride=2)\n",
    "\n",
    "    def forward(self, x):\n",
    "        skips = []\n",
    "        for layer in self.encoder:\n",
    "            x = layer(x)\n",
    "            skips.append(x)\n",
    "            x = self.pool(x)\n",
    "        x = self.bottleneck(x)\n",
    "        skips = skips[::-1]\n",
    "        for i in range(0, len(self.decoder), 2):\n",
    "            x = self.decoder[i](x)\n",
    "            skip = skips[i//2]\n",
    "            if x.shape != skip.shape:\n",
    "                x = nn.functional.interpolate(x, size=skip.shape[2:])\n",
    "            x = torch.cat((skip, x), dim=1)\n",
    "            x = self.decoder[i+1](x)\n",
    "        return self.final_conv(x)\n",
    "\n",
    "    def _block(self, in_channels, out_channels):\n",
    "        return nn.Sequential(\n",
    "            nn.Conv3d(in_channels, out_channels, kernel_size=3, padding=1),\n",
    "            nn.BatchNorm3d(out_channels),\n",
    "            nn.ReLU(inplace=True),\n",
    "            nn.Conv3d(out_channels, out_channels, kernel_size=3, padding=1),\n",
    "            nn.BatchNorm3d(out_channels),\n",
    "            nn.ReLU(inplace=True)\n",
    "        )\n",
    "\n",
    "class AttentionBlock3D(nn.Module):\n",
    "    def __init__(self, F_g, F_l, F_int):\n",
    "        super(AttentionBlock3D, self).__init__()\n",
    "        self.W_g = nn.Sequential(\n",
    "            nn.Conv3d(F_g, F_int, kernel_size=1),\n",
    "            nn.BatchNorm3d(F_int)\n",
    "        )\n",
    "        self.W_x = nn.Sequential(\n",
    "            nn.Conv3d(F_l, F_int, kernel_size=1),\n",
    "            nn.BatchNorm3d(F_int)\n",
    "        )\n",
    "        self.psi = nn.Sequential(\n",
    "            nn.Conv3d(F_int, 1, kernel_size=1),\n",
    "            nn.BatchNorm3d(1),\n",
    "            nn.Sigmoid()\n",
    "        )\n",
    "        self.relu = nn.ReLU(inplace=True)\n",
    "\n",
    "    def forward(self, g, x):\n",
    "        g1 = self.W_g(g)\n",
    "        x1 = self.W_x(x)\n",
    "        psi = self.relu(g1 + x1)\n",
    "        psi = self.psi(psi)\n",
    "        return x * psi\n",
    "\n",
    "class AttentionUNet3D(nn.Module):\n",
    "    def __init__(self, in_channels=4, out_channels=3, features=[32, 64, 128, 256]):\n",
    "        super(AttentionUNet3D, self).__init__()\n",
    "        self.encoder = nn.ModuleList()\n",
    "        self.decoder = nn.ModuleList()\n",
    "        self.attentions = nn.ModuleList()\n",
    "        for feature in features:\n",
    "            self.encoder.append(self._block(in_channels, feature))\n",
    "            in_channels = feature\n",
    "        self.bottleneck = self._block(features[-1], features[-1]*2)\n",
    "        for feature in reversed(features):\n",
    "            self.decoder.append(nn.ConvTranspose3d(feature*2, feature, kernel_size=2, stride=2))\n",
    "            self.attentions.append(AttentionBlock3D(F_g=feature, F_l=feature, F_int=feature//2))\n",
    "            self.decoder.append(self._block(feature*2, feature))\n",
    "        self.final_conv = nn.Conv3d(features[0], out_channels, kernel_size=1)\n",
    "        self.pool = nn.MaxPool3d(kernel_size=2, stride=2)\n",
    "\n",
    "    def forward(self, x):\n",
    "        skips = []\n",
    "        for layer in self.encoder:\n",
    "            x = layer(x)\n",
    "            skips.append(x)\n",
    "            x = self.pool(x)\n",
    "        x = self.bottleneck(x)\n",
    "        skips = skips[::-1]\n",
    "        for i in range(0, len(self.decoder), 2):\n",
    "            x = self.decoder[i](x)\n",
    "            skip = skips[i//2]\n",
    "            if x.shape != skip.shape:\n",
    "                x = nn.functional.interpolate(x, size=skip.shape[2:])\n",
    "            skip = self.attentions[i//2](g=x, x=skip)\n",
    "            x = torch.cat((skip, x), dim=1)\n",
    "            x = self.decoder[i+1](x)\n",
    "        return self.final_conv(x)\n",
    "\n",
    "    def _block(self, in_channels, out_channels):\n",
    "        return nn.Sequential(\n",
    "            nn.Conv3d(in_channels, out_channels, kernel_size=3, padding=1),\n",
    "            nn.BatchNorm3d(out_channels),\n",
    "            nn.ReLU(inplace=True),\n",
    "            nn.Conv3d(out_channels, out_channels, kernel_size=3, padding=1),\n",
    "            nn.BatchNorm3d(out_channels),\n",
    "            nn.ReLU(inplace=True)\n",
    "        )\n"
   ]
  },
  {
   "cell_type": "markdown",
   "id": "823361e3",
   "metadata": {},
   "source": [
    "## 🔀 Dataset Split: Train & Validation\n",
    "We use an 80/20 split to train and evaluate performance."
   ]
  },
  {
   "cell_type": "code",
   "execution_count": 5,
   "id": "27317d07",
   "metadata": {},
   "outputs": [
    {
     "name": "stdout",
     "output_type": "stream",
     "text": [
      "Total samples: 2547\n",
      "Image shape: torch.Size([4, 192, 192, 128])\n",
      "Mask shape: torch.Size([192, 192, 128])\n"
     ]
    }
   ],
   "source": [
    "dataset = BrainTumorDataset(\n",
    "    r\"D:\\Khedir-meriem-ESI-SBElAbes\\data\\input_data_4channels_z_score\\train\\images\",\n",
    "    r\"D:\\Khedir-meriem-ESI-SBElAbes\\data\\input_data_4channels_z_score\\train\\masks\",\n",
    ")\n",
    "\n",
    "print(\"Total samples:\", len(dataset))\n",
    "img, mask = dataset[0]\n",
    "print(\"Image shape:\", img.shape)\n",
    "print(\"Mask shape:\", mask.shape)\n",
    "\n",
    "# Split dataset into train and validation sets\n",
    "train_size = int(0.8 * len(dataset))\n",
    "val_size = len(dataset) - train_size\n",
    "train_dataset, val_dataset = random_split(dataset, [train_size, val_size])\n",
    "\n",
    "train_loader = DataLoader(\n",
    "    train_dataset,\n",
    "    batch_size=1,            # Use 2 for 3D models (adjust if OOM or slow)\n",
    "    shuffle=True,\n",
    "    num_workers=0,\n",
    "    pin_memory=True\n",
    ")\n",
    "\n",
    "val_loader = DataLoader(\n",
    "    val_dataset,\n",
    "    batch_size=1,            # Same as above\n",
    "    shuffle=False,\n",
    "    num_workers=0,\n",
    "    pin_memory=True\n",
    ")\n"
   ]
  },
  {
   "cell_type": "code",
   "execution_count": 6,
   "id": "4144854d",
   "metadata": {},
   "outputs": [],
   "source": [
    "import os\n",
    "os.environ[\"CUDA_LAUNCH_BLOCKING\"] = \"1\""
   ]
  },
  {
   "cell_type": "markdown",
   "id": "b0c1ed8a",
   "metadata": {},
   "source": [
    "## 📐 Dice Coefficient Metric\n",
    "Used to evaluate how well the predicted segmentation matches the ground truth."
   ]
  },
  {
   "cell_type": "code",
   "execution_count": 7,
   "id": "a97e4fc7",
   "metadata": {},
   "outputs": [],
   "source": [
    "def dice_coeff(pred, target, eps=1e-6):\n",
    "    pred = pred.contiguous().view(-1)\n",
    "    target = target.contiguous().view(-1)\n",
    "    intersection = (pred == target).float().sum()\n",
    "    dice = (2. * intersection) / (pred.numel() + target.numel() + eps)\n",
    "    return dice\n"
   ]
  },
  {
   "cell_type": "markdown",
   "id": "137c48c9",
   "metadata": {},
   "source": [
    "## 🧪 Training Function (AMP + EarlyStopping + Scheduler)"
   ]
  },
  {
   "cell_type": "code",
   "execution_count": 8,
   "id": "e013f100",
   "metadata": {},
   "outputs": [],
   "source": [
    "\n",
    "from torch.cuda.amp import autocast, GradScaler\n",
    "import csv\n",
    "\n",
    "def train_model(model, name):\n",
    "    model = model.to(DEVICE)\n",
    "    optimizer = torch.optim.Adam(model.parameters(), lr=1e-4)\n",
    "    scheduler = ReduceLROnPlateau(optimizer, 'min', patience=5, verbose=True)\n",
    "    criterion = nn.CrossEntropyLoss()\n",
    "\n",
    "    scaler = GradScaler()\n",
    "    best_dice = 0\n",
    "    patience = 10\n",
    "    trigger = 0\n",
    "    train_dice, val_dice = [], []\n",
    "\n",
    "    # Prepare CSV log file\n",
    "    log_path = f\"{name}_log.csv\"\n",
    "    with open(log_path, mode=\"w\", newline=\"\") as file:\n",
    "        writer = csv.writer(file)\n",
    "        writer.writerow([\"Epoch\", \"TrainLoss\", \"ValDice\"])\n",
    "\n",
    "    for epoch in range(1, 101):\n",
    "        model.train()\n",
    "        total_loss = 0\n",
    "        for x, y in tqdm(train_loader, desc=f\"Epoch {epoch}\"):\n",
    "            x, y = x.to(DEVICE), y.to(DEVICE)\n",
    "            optimizer.zero_grad()\n",
    "\n",
    "            with autocast():\n",
    "                out = model(x)\n",
    "                loss = criterion(out, y)\n",
    "\n",
    "            scaler.scale(loss).backward()\n",
    "            scaler.step(optimizer)\n",
    "            scaler.update()\n",
    "\n",
    "            total_loss += loss.item()\n",
    "\n",
    "        # Validation\n",
    "        model.eval()\n",
    "        dice = 0\n",
    "        with torch.no_grad():\n",
    "            for x, y in val_loader:\n",
    "                x, y = x.to(DEVICE), y.to(DEVICE)\n",
    "                with autocast():\n",
    "                    pred = torch.argmax(model(x), dim=1)\n",
    "                dice += dice_coeff(pred.cpu(), y.cpu())\n",
    "        avg_dice = dice / len(val_loader)\n",
    "        val_dice.append(avg_dice.item())\n",
    "\n",
    "        # Log to CSV\n",
    "        with open(log_path, mode=\"a\", newline=\"\") as file:\n",
    "            writer = csv.writer(file)\n",
    "            writer.writerow([epoch, total_loss, avg_dice.item()])\n",
    "\n",
    "        print(f\"[{name}] Epoch {epoch}, Loss: {total_loss:.4f}, Val Dice: {avg_dice:.4f}\")\n",
    "        scheduler.step(total_loss)\n",
    "\n",
    "        if avg_dice > best_dice:\n",
    "            best_dice = avg_dice\n",
    "            torch.save(model.state_dict(), f\"{name}_best.pth\")\n",
    "            print(f\"✅ Saved best model with Dice: {best_dice:.4f}\")\n",
    "            trigger = 0\n",
    "        else:\n",
    "            trigger += 1\n",
    "            if trigger >= patience:\n",
    "                print(\"⏹️ Early stopping triggered.\")\n",
    "                break\n",
    "\n",
    "    # After training: plot Dice scores\n",
    "    plt.figure(figsize=(8, 5))\n",
    "    plt.plot(val_dice, label='Validation Dice')\n",
    "    plt.xlabel(\"Epoch\")\n",
    "    plt.ylabel(\"Dice Coefficient\")\n",
    "    plt.title(f\"Validation Dice Curve ({name})\")\n",
    "    plt.legend()\n",
    "    plt.grid(True)\n",
    "    plt.savefig(f\"{name}_dice_plot.png\")\n",
    "    plt.show()\n"
   ]
  },
  {
   "cell_type": "code",
   "execution_count": 9,
   "id": "8a024cd9",
   "metadata": {},
   "outputs": [
    {
     "name": "stdout",
     "output_type": "stream",
     "text": [
      "🔥 Is model on GPU? True\n"
     ]
    }
   ],
   "source": [
    "model = UNet3D().to(DEVICE)\n",
    "print(\"🔥 Is model on GPU?\", next(model.parameters()).is_cuda)\n"
   ]
  },
  {
   "cell_type": "markdown",
   "id": "0a2d94a0",
   "metadata": {},
   "source": [
    "## 🧠 Train Both Models (100 Epochs Max + Early Stopping)"
   ]
  },
  {
   "cell_type": "code",
   "execution_count": null,
   "id": "5916089b",
   "metadata": {},
   "outputs": [
    {
     "name": "stderr",
     "output_type": "stream",
     "text": [
      "Epoch 1: 100%|██████████| 2037/2037 [25:40<00:00,  1.32it/s]\n"
     ]
    },
    {
     "name": "stdout",
     "output_type": "stream",
     "text": [
      "[unet3d] Epoch 1, Loss: 396.3700, Val Dice: 0.9923\n",
      "✅ Saved best model with Dice: 0.9923\n"
     ]
    },
    {
     "name": "stderr",
     "output_type": "stream",
     "text": [
      "Epoch 2: 100%|██████████| 2037/2037 [25:14<00:00,  1.35it/s]\n"
     ]
    },
    {
     "name": "stdout",
     "output_type": "stream",
     "text": [
      "[unet3d] Epoch 2, Loss: 55.0269, Val Dice: 0.9938\n",
      "✅ Saved best model with Dice: 0.9938\n"
     ]
    },
    {
     "name": "stderr",
     "output_type": "stream",
     "text": [
      "Epoch 3: 100%|██████████| 2037/2037 [25:12<00:00,  1.35it/s]\n"
     ]
    },
    {
     "name": "stdout",
     "output_type": "stream",
     "text": [
      "[unet3d] Epoch 3, Loss: 34.8193, Val Dice: 0.9893\n"
     ]
    },
    {
     "name": "stderr",
     "output_type": "stream",
     "text": [
      "Epoch 4: 100%|██████████| 2037/2037 [25:14<00:00,  1.34it/s]\n"
     ]
    },
    {
     "name": "stdout",
     "output_type": "stream",
     "text": [
      "[unet3d] Epoch 4, Loss: 28.4035, Val Dice: 0.9931\n"
     ]
    },
    {
     "name": "stderr",
     "output_type": "stream",
     "text": [
      "Epoch 5: 100%|██████████| 2037/2037 [25:09<00:00,  1.35it/s]\n"
     ]
    },
    {
     "name": "stdout",
     "output_type": "stream",
     "text": [
      "[unet3d] Epoch 5, Loss: 26.2917, Val Dice: 0.9916\n"
     ]
    },
    {
     "name": "stderr",
     "output_type": "stream",
     "text": [
      "Epoch 6: 100%|██████████| 2037/2037 [25:14<00:00,  1.34it/s]\n"
     ]
    },
    {
     "name": "stdout",
     "output_type": "stream",
     "text": [
      "[unet3d] Epoch 6, Loss: 23.8114, Val Dice: 0.9895\n"
     ]
    },
    {
     "name": "stderr",
     "output_type": "stream",
     "text": [
      "Epoch 7: 100%|██████████| 2037/2037 [25:13<00:00,  1.35it/s]\n"
     ]
    },
    {
     "name": "stdout",
     "output_type": "stream",
     "text": [
      "[unet3d] Epoch 7, Loss: 23.4109, Val Dice: 0.9928\n"
     ]
    },
    {
     "name": "stderr",
     "output_type": "stream",
     "text": [
      "Epoch 8: 100%|██████████| 2037/2037 [25:11<00:00,  1.35it/s]\n"
     ]
    },
    {
     "name": "stdout",
     "output_type": "stream",
     "text": [
      "[unet3d] Epoch 8, Loss: 21.9531, Val Dice: 0.9940\n",
      "✅ Saved best model with Dice: 0.9940\n"
     ]
    },
    {
     "name": "stderr",
     "output_type": "stream",
     "text": [
      "Epoch 9: 100%|██████████| 2037/2037 [25:14<00:00,  1.34it/s]\n"
     ]
    },
    {
     "name": "stdout",
     "output_type": "stream",
     "text": [
      "[unet3d] Epoch 9, Loss: 21.3884, Val Dice: 0.9928\n"
     ]
    },
    {
     "name": "stderr",
     "output_type": "stream",
     "text": [
      "Epoch 10: 100%|██████████| 2037/2037 [25:20<00:00,  1.34it/s]\n"
     ]
    },
    {
     "name": "stdout",
     "output_type": "stream",
     "text": [
      "[unet3d] Epoch 10, Loss: 20.7721, Val Dice: 0.9930\n"
     ]
    },
    {
     "name": "stderr",
     "output_type": "stream",
     "text": [
      "Epoch 11: 100%|██████████| 2037/2037 [25:18<00:00,  1.34it/s]\n"
     ]
    },
    {
     "name": "stdout",
     "output_type": "stream",
     "text": [
      "[unet3d] Epoch 11, Loss: 20.1535, Val Dice: 0.9939\n"
     ]
    },
    {
     "name": "stderr",
     "output_type": "stream",
     "text": [
      "Epoch 12: 100%|██████████| 2037/2037 [25:15<00:00,  1.34it/s]\n"
     ]
    },
    {
     "name": "stdout",
     "output_type": "stream",
     "text": [
      "[unet3d] Epoch 12, Loss: 19.9887, Val Dice: 0.9928\n"
     ]
    },
    {
     "name": "stderr",
     "output_type": "stream",
     "text": [
      "Epoch 13: 100%|██████████| 2037/2037 [25:15<00:00,  1.34it/s]\n"
     ]
    },
    {
     "name": "stdout",
     "output_type": "stream",
     "text": [
      "[unet3d] Epoch 13, Loss: 19.6438, Val Dice: 0.9882\n"
     ]
    },
    {
     "name": "stderr",
     "output_type": "stream",
     "text": [
      "Epoch 14: 100%|██████████| 2037/2037 [25:15<00:00,  1.34it/s]\n"
     ]
    },
    {
     "name": "stdout",
     "output_type": "stream",
     "text": [
      "[unet3d] Epoch 14, Loss: 19.0436, Val Dice: 0.9913\n"
     ]
    },
    {
     "name": "stderr",
     "output_type": "stream",
     "text": [
      "Epoch 15: 100%|██████████| 2037/2037 [25:16<00:00,  1.34it/s]\n"
     ]
    },
    {
     "name": "stdout",
     "output_type": "stream",
     "text": [
      "[unet3d] Epoch 15, Loss: 18.6429, Val Dice: 0.9925\n"
     ]
    },
    {
     "name": "stderr",
     "output_type": "stream",
     "text": [
      "Epoch 16: 100%|██████████| 2037/2037 [25:13<00:00,  1.35it/s]\n"
     ]
    },
    {
     "name": "stdout",
     "output_type": "stream",
     "text": [
      "[unet3d] Epoch 16, Loss: 18.5858, Val Dice: 0.9943\n",
      "✅ Saved best model with Dice: 0.9943\n"
     ]
    },
    {
     "name": "stderr",
     "output_type": "stream",
     "text": [
      "Epoch 17: 100%|██████████| 2037/2037 [25:25<00:00,  1.34it/s]\n"
     ]
    },
    {
     "name": "stdout",
     "output_type": "stream",
     "text": [
      "[unet3d] Epoch 17, Loss: 18.6824, Val Dice: 0.9928\n"
     ]
    },
    {
     "name": "stderr",
     "output_type": "stream",
     "text": [
      "Epoch 18: 100%|██████████| 2037/2037 [25:27<00:00,  1.33it/s]\n"
     ]
    },
    {
     "name": "stdout",
     "output_type": "stream",
     "text": [
      "[unet3d] Epoch 18, Loss: 17.5846, Val Dice: 0.9935\n"
     ]
    },
    {
     "name": "stderr",
     "output_type": "stream",
     "text": [
      "Epoch 19: 100%|██████████| 2037/2037 [25:16<00:00,  1.34it/s]\n"
     ]
    },
    {
     "name": "stdout",
     "output_type": "stream",
     "text": [
      "[unet3d] Epoch 19, Loss: 17.7214, Val Dice: 0.9944\n",
      "✅ Saved best model with Dice: 0.9944\n"
     ]
    },
    {
     "name": "stderr",
     "output_type": "stream",
     "text": [
      "Epoch 20: 100%|██████████| 2037/2037 [25:15<00:00,  1.34it/s]\n"
     ]
    },
    {
     "name": "stdout",
     "output_type": "stream",
     "text": [
      "[unet3d] Epoch 20, Loss: 17.0509, Val Dice: 0.9942\n"
     ]
    },
    {
     "name": "stderr",
     "output_type": "stream",
     "text": [
      "Epoch 21: 100%|██████████| 2037/2037 [25:15<00:00,  1.34it/s]\n"
     ]
    },
    {
     "name": "stdout",
     "output_type": "stream",
     "text": [
      "[unet3d] Epoch 21, Loss: 16.9228, Val Dice: 0.9855\n"
     ]
    },
    {
     "name": "stderr",
     "output_type": "stream",
     "text": [
      "Epoch 22: 100%|██████████| 2037/2037 [25:13<00:00,  1.35it/s]\n"
     ]
    },
    {
     "name": "stdout",
     "output_type": "stream",
     "text": [
      "[unet3d] Epoch 22, Loss: 16.4039, Val Dice: 0.9938\n"
     ]
    },
    {
     "name": "stderr",
     "output_type": "stream",
     "text": [
      "Epoch 23: 100%|██████████| 2037/2037 [25:14<00:00,  1.34it/s]\n"
     ]
    },
    {
     "name": "stdout",
     "output_type": "stream",
     "text": [
      "[unet3d] Epoch 23, Loss: 15.9459, Val Dice: 0.9932\n"
     ]
    },
    {
     "name": "stderr",
     "output_type": "stream",
     "text": [
      "Epoch 24: 100%|██████████| 2037/2037 [25:13<00:00,  1.35it/s]\n"
     ]
    },
    {
     "name": "stdout",
     "output_type": "stream",
     "text": [
      "[unet3d] Epoch 24, Loss: 15.8261, Val Dice: 0.9949\n",
      "✅ Saved best model with Dice: 0.9949\n"
     ]
    },
    {
     "name": "stderr",
     "output_type": "stream",
     "text": [
      "Epoch 25: 100%|██████████| 2037/2037 [25:10<00:00,  1.35it/s]\n"
     ]
    },
    {
     "name": "stdout",
     "output_type": "stream",
     "text": [
      "[unet3d] Epoch 25, Loss: 15.3418, Val Dice: 0.9939\n"
     ]
    },
    {
     "name": "stderr",
     "output_type": "stream",
     "text": [
      "Epoch 26: 100%|██████████| 2037/2037 [25:16<00:00,  1.34it/s]\n"
     ]
    },
    {
     "name": "stdout",
     "output_type": "stream",
     "text": [
      "[unet3d] Epoch 26, Loss: 15.3358, Val Dice: 0.9925\n"
     ]
    },
    {
     "name": "stderr",
     "output_type": "stream",
     "text": [
      "Epoch 27: 100%|██████████| 2037/2037 [25:14<00:00,  1.34it/s]\n"
     ]
    },
    {
     "name": "stdout",
     "output_type": "stream",
     "text": [
      "[unet3d] Epoch 27, Loss: 15.0309, Val Dice: 0.9896\n"
     ]
    },
    {
     "name": "stderr",
     "output_type": "stream",
     "text": [
      "Epoch 28: 100%|██████████| 2037/2037 [25:14<00:00,  1.35it/s]\n"
     ]
    },
    {
     "name": "stdout",
     "output_type": "stream",
     "text": [
      "[unet3d] Epoch 28, Loss: 15.2182, Val Dice: 0.9932\n"
     ]
    },
    {
     "name": "stderr",
     "output_type": "stream",
     "text": [
      "Epoch 29: 100%|██████████| 2037/2037 [25:14<00:00,  1.34it/s]\n"
     ]
    },
    {
     "name": "stdout",
     "output_type": "stream",
     "text": [
      "[unet3d] Epoch 29, Loss: 14.5060, Val Dice: 0.9950\n",
      "✅ Saved best model with Dice: 0.9950\n"
     ]
    },
    {
     "name": "stderr",
     "output_type": "stream",
     "text": [
      "Epoch 30: 100%|██████████| 2037/2037 [25:10<00:00,  1.35it/s]\n"
     ]
    },
    {
     "name": "stdout",
     "output_type": "stream",
     "text": [
      "[unet3d] Epoch 30, Loss: 14.4801, Val Dice: 0.9922\n"
     ]
    },
    {
     "name": "stderr",
     "output_type": "stream",
     "text": [
      "Epoch 31: 100%|██████████| 2037/2037 [25:17<00:00,  1.34it/s]\n"
     ]
    },
    {
     "name": "stdout",
     "output_type": "stream",
     "text": [
      "[unet3d] Epoch 31, Loss: 14.4229, Val Dice: 0.9950\n",
      "✅ Saved best model with Dice: 0.9950\n"
     ]
    },
    {
     "name": "stderr",
     "output_type": "stream",
     "text": [
      "Epoch 32: 100%|██████████| 2037/2037 [25:19<00:00,  1.34it/s]\n"
     ]
    },
    {
     "name": "stdout",
     "output_type": "stream",
     "text": [
      "[unet3d] Epoch 32, Loss: 14.1294, Val Dice: 0.9897\n"
     ]
    },
    {
     "name": "stderr",
     "output_type": "stream",
     "text": [
      "Epoch 33: 100%|██████████| 2037/2037 [25:19<00:00,  1.34it/s]\n"
     ]
    },
    {
     "name": "stdout",
     "output_type": "stream",
     "text": [
      "[unet3d] Epoch 33, Loss: 14.4575, Val Dice: 0.9919\n"
     ]
    },
    {
     "name": "stderr",
     "output_type": "stream",
     "text": [
      "Epoch 34: 100%|██████████| 2037/2037 [25:15<00:00,  1.34it/s]\n"
     ]
    },
    {
     "name": "stdout",
     "output_type": "stream",
     "text": [
      "[unet3d] Epoch 34, Loss: 13.8863, Val Dice: 0.9947\n"
     ]
    },
    {
     "name": "stderr",
     "output_type": "stream",
     "text": [
      "Epoch 35: 100%|██████████| 2037/2037 [25:23<00:00,  1.34it/s]\n"
     ]
    },
    {
     "name": "stdout",
     "output_type": "stream",
     "text": [
      "[unet3d] Epoch 35, Loss: 13.8885, Val Dice: 0.9901\n"
     ]
    },
    {
     "name": "stderr",
     "output_type": "stream",
     "text": [
      "Epoch 36: 100%|██████████| 2037/2037 [25:15<00:00,  1.34it/s]\n"
     ]
    },
    {
     "name": "stdout",
     "output_type": "stream",
     "text": [
      "[unet3d] Epoch 36, Loss: 13.5503, Val Dice: 0.9900\n"
     ]
    },
    {
     "name": "stderr",
     "output_type": "stream",
     "text": [
      "Epoch 37: 100%|██████████| 2037/2037 [25:14<00:00,  1.34it/s]\n"
     ]
    },
    {
     "name": "stdout",
     "output_type": "stream",
     "text": [
      "[unet3d] Epoch 37, Loss: 13.3879, Val Dice: 0.9901\n"
     ]
    },
    {
     "name": "stderr",
     "output_type": "stream",
     "text": [
      "Epoch 38: 100%|██████████| 2037/2037 [25:14<00:00,  1.34it/s]\n"
     ]
    },
    {
     "name": "stdout",
     "output_type": "stream",
     "text": [
      "[unet3d] Epoch 38, Loss: 13.2701, Val Dice: 0.9914\n"
     ]
    },
    {
     "name": "stderr",
     "output_type": "stream",
     "text": [
      "Epoch 39: 100%|██████████| 2037/2037 [25:15<00:00,  1.34it/s]\n"
     ]
    },
    {
     "name": "stdout",
     "output_type": "stream",
     "text": [
      "[unet3d] Epoch 39, Loss: 13.1891, Val Dice: 0.9947\n"
     ]
    },
    {
     "name": "stderr",
     "output_type": "stream",
     "text": [
      "Epoch 40: 100%|██████████| 2037/2037 [25:38<00:00,  1.32it/s]\n"
     ]
    }
   ],
   "source": [
    "# Make sure the cell defining train_model is run before this cell.\n",
    "train_model(UNet3D(), \"unet3d\")"
   ]
  },
  {
   "cell_type": "code",
   "execution_count": null,
   "id": "3e15ba10",
   "metadata": {},
   "outputs": [
    {
     "name": "stderr",
     "output_type": "stream",
     "text": [
      "Epoch 1: 100%|██████████| 2037/2037 [27:41<00:00,  1.23it/s]\n"
     ]
    },
    {
     "name": "stdout",
     "output_type": "stream",
     "text": [
      "[att_unet3d] Epoch 1, Loss: 445.5894, Val Dice: 0.9925\n",
      "✅ Saved best model with Dice: 0.9925\n"
     ]
    },
    {
     "name": "stderr",
     "output_type": "stream",
     "text": [
      "Epoch 2: 100%|██████████| 2037/2037 [28:03<00:00,  1.21it/s]\n"
     ]
    },
    {
     "name": "stdout",
     "output_type": "stream",
     "text": [
      "[att_unet3d] Epoch 2, Loss: 59.2261, Val Dice: 0.9937\n",
      "✅ Saved best model with Dice: 0.9937\n"
     ]
    },
    {
     "name": "stderr",
     "output_type": "stream",
     "text": [
      "Epoch 3: 100%|██████████| 2037/2037 [28:05<00:00,  1.21it/s]\n"
     ]
    },
    {
     "name": "stdout",
     "output_type": "stream",
     "text": [
      "[att_unet3d] Epoch 3, Loss: 33.1423, Val Dice: 0.9936\n"
     ]
    },
    {
     "name": "stderr",
     "output_type": "stream",
     "text": [
      "Epoch 4: 100%|██████████| 2037/2037 [28:08<00:00,  1.21it/s]\n"
     ]
    },
    {
     "name": "stdout",
     "output_type": "stream",
     "text": [
      "[att_unet3d] Epoch 4, Loss: 27.5493, Val Dice: 0.9926\n"
     ]
    },
    {
     "name": "stderr",
     "output_type": "stream",
     "text": [
      "Epoch 5: 100%|██████████| 2037/2037 [27:30<00:00,  1.23it/s]\n"
     ]
    },
    {
     "name": "stdout",
     "output_type": "stream",
     "text": [
      "[att_unet3d] Epoch 5, Loss: 24.7131, Val Dice: 0.9944\n",
      "✅ Saved best model with Dice: 0.9944\n"
     ]
    },
    {
     "name": "stderr",
     "output_type": "stream",
     "text": [
      "Epoch 6: 100%|██████████| 2037/2037 [27:15<00:00,  1.25it/s]\n"
     ]
    },
    {
     "name": "stdout",
     "output_type": "stream",
     "text": [
      "[att_unet3d] Epoch 6, Loss: 23.7996, Val Dice: 0.9949\n",
      "✅ Saved best model with Dice: 0.9949\n"
     ]
    },
    {
     "name": "stderr",
     "output_type": "stream",
     "text": [
      "Epoch 7: 100%|██████████| 2037/2037 [28:19<00:00,  1.20it/s]\n"
     ]
    },
    {
     "name": "stdout",
     "output_type": "stream",
     "text": [
      "[att_unet3d] Epoch 7, Loss: 22.2923, Val Dice: 0.9940\n"
     ]
    },
    {
     "name": "stderr",
     "output_type": "stream",
     "text": [
      "Epoch 8: 100%|██████████| 2037/2037 [28:13<00:00,  1.20it/s]\n"
     ]
    },
    {
     "name": "stdout",
     "output_type": "stream",
     "text": [
      "[att_unet3d] Epoch 8, Loss: 22.1384, Val Dice: 0.9930\n"
     ]
    },
    {
     "name": "stderr",
     "output_type": "stream",
     "text": [
      "Epoch 9: 100%|██████████| 2037/2037 [28:59<00:00,  1.17it/s]\n"
     ]
    },
    {
     "name": "stdout",
     "output_type": "stream",
     "text": [
      "[att_unet3d] Epoch 9, Loss: 20.8454, Val Dice: 0.9940\n"
     ]
    },
    {
     "name": "stderr",
     "output_type": "stream",
     "text": [
      "Epoch 10: 100%|██████████| 2037/2037 [28:58<00:00,  1.17it/s]\n"
     ]
    },
    {
     "name": "stdout",
     "output_type": "stream",
     "text": [
      "[att_unet3d] Epoch 10, Loss: 20.3918, Val Dice: 0.9925\n"
     ]
    },
    {
     "name": "stderr",
     "output_type": "stream",
     "text": [
      "Epoch 11: 100%|██████████| 2037/2037 [28:50<00:00,  1.18it/s]\n"
     ]
    },
    {
     "name": "stdout",
     "output_type": "stream",
     "text": [
      "[att_unet3d] Epoch 11, Loss: 20.4605, Val Dice: 0.9943\n"
     ]
    },
    {
     "name": "stderr",
     "output_type": "stream",
     "text": [
      "Epoch 12: 100%|██████████| 2037/2037 [28:38<00:00,  1.19it/s]\n"
     ]
    },
    {
     "name": "stdout",
     "output_type": "stream",
     "text": [
      "[att_unet3d] Epoch 12, Loss: 19.7197, Val Dice: 0.9946\n"
     ]
    },
    {
     "name": "stderr",
     "output_type": "stream",
     "text": [
      "Epoch 13: 100%|██████████| 2037/2037 [28:37<00:00,  1.19it/s]\n"
     ]
    },
    {
     "name": "stdout",
     "output_type": "stream",
     "text": [
      "[att_unet3d] Epoch 13, Loss: 19.4122, Val Dice: 0.9943\n"
     ]
    },
    {
     "name": "stderr",
     "output_type": "stream",
     "text": [
      "Epoch 14: 100%|██████████| 2037/2037 [27:58<00:00,  1.21it/s]\n"
     ]
    },
    {
     "name": "stdout",
     "output_type": "stream",
     "text": [
      "[att_unet3d] Epoch 14, Loss: 19.1117, Val Dice: 0.9918\n"
     ]
    },
    {
     "name": "stderr",
     "output_type": "stream",
     "text": [
      "Epoch 15: 100%|██████████| 2037/2037 [27:46<00:00,  1.22it/s]\n"
     ]
    },
    {
     "name": "stdout",
     "output_type": "stream",
     "text": [
      "[att_unet3d] Epoch 15, Loss: 18.7111, Val Dice: 0.9947\n"
     ]
    },
    {
     "name": "stderr",
     "output_type": "stream",
     "text": [
      "Epoch 16: 100%|██████████| 2037/2037 [28:32<00:00,  1.19it/s]\n"
     ]
    },
    {
     "name": "stdout",
     "output_type": "stream",
     "text": [
      "[att_unet3d] Epoch 16, Loss: 18.2966, Val Dice: 0.9948\n",
      "⏹️ Early stopping triggered.\n"
     ]
    },
    {
     "data": {
      "image/png": "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",
      "text/plain": [
       "<Figure size 800x500 with 1 Axes>"
      ]
     },
     "metadata": {},
     "output_type": "display_data"
    }
   ],
   "source": [
    "# After that finishes\n",
    "train_model(AttentionUNet3D(), \"att_unet3d\")"
   ]
  },
  {
   "cell_type": "markdown",
   "id": "bbee0506",
   "metadata": {},
   "source": [
    "## 📊 Plot Dice Score Over Epochs"
   ]
  },
  {
   "cell_type": "code",
   "execution_count": 11,
   "id": "b94f1df5",
   "metadata": {},
   "outputs": [
    {
     "data": {
      "image/png": "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",
      "text/plain": [
       "<Figure size 640x480 with 1 Axes>"
      ]
     },
     "metadata": {},
     "output_type": "display_data"
    }
   ],
   "source": [
    "import pandas as pd\n",
    "\n",
    "# Replace 'unet3d_log.csv' with your model's log file if needed\n",
    "log_df = pd.read_csv(\"unet3d_log.csv\")\n",
    "# If you want to plot for Attention U-Net, use \"att_unet3d_log.csv\"\n",
    "\n",
    "plt.plot(log_df[\"ValDice\"], label=\"Val Dice\")\n",
    "plt.xlabel(\"Epoch\")\n",
    "plt.ylabel(\"Dice\")\n",
    "plt.title(\"Validation Dice Curve\")\n",
    "plt.legend()\n",
    "plt.grid(True)\n",
    "plt.show()"
   ]
  },
  {
   "cell_type": "markdown",
   "id": "34b165cb",
   "metadata": {},
   "source": [
    "## 🔍 Visualize Predictions"
   ]
  },
  {
   "cell_type": "code",
   "execution_count": 12,
   "id": "3c9a44da",
   "metadata": {},
   "outputs": [
    {
     "data": {
      "image/png": "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",
      "text/plain": [
       "<Figure size 1200x400 with 3 Axes>"
      ]
     },
     "metadata": {},
     "output_type": "display_data"
    },
    {
     "data": {
      "image/png": "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",
      "text/plain": [
       "<Figure size 1200x400 with 3 Axes>"
      ]
     },
     "metadata": {},
     "output_type": "display_data"
    }
   ],
   "source": [
    "def visualize_predictions(model_path, model_class):\n",
    "    model = model_class().to(DEVICE)\n",
    "    model.load_state_dict(torch.load(model_path))\n",
    "    model.eval()\n",
    "\n",
    "    x, y = next(iter(val_loader))\n",
    "    x, y = x.to(DEVICE), y.to(DEVICE)\n",
    "    with torch.no_grad():\n",
    "        pred = torch.argmax(model(x), dim=1)\n",
    "\n",
    "    num_samples = min(x.shape[0], 3)\n",
    "    mid_slice = x.shape[2] // 2  # Middle slice in depth\n",
    "\n",
    "    plt.figure(figsize=(12, 4 * num_samples))\n",
    "    for i in range(num_samples):\n",
    "        plt.subplot(num_samples, 3, i*3+1)\n",
    "        plt.imshow(x[i][0, mid_slice].cpu(), cmap='gray')\n",
    "        plt.title('Input (mid slice)')\n",
    "        plt.axis('off')\n",
    "\n",
    "        plt.subplot(num_samples, 3, i*3+2)\n",
    "        plt.imshow(y[i][mid_slice].cpu(), cmap='gray')\n",
    "        plt.title('GT (mid slice)')\n",
    "        plt.axis('off')\n",
    "\n",
    "        plt.subplot(num_samples, 3, i*3+3)\n",
    "        plt.imshow(pred[i][mid_slice].cpu(), cmap='gray')\n",
    "        plt.title('Prediction (mid slice)')\n",
    "        plt.axis('off')\n",
    "    plt.tight_layout()\n",
    "    plt.show()\n",
    "\n",
    "visualize_predictions(\"unet3d_best.pth\", UNet3D)\n",
    "visualize_predictions(\"att_unet3d_best.pth\", AttentionUNet3D)"
   ]
  },
  {
   "cell_type": "markdown",
   "id": "8c20f766",
   "metadata": {},
   "source": [
    "## 💾 Export Models: TorchScript + ONNX"
   ]
  },
  {
   "cell_type": "code",
   "execution_count": 13,
   "id": "3305eb5e",
   "metadata": {},
   "outputs": [
    {
     "name": "stderr",
     "output_type": "stream",
     "text": [
      "C:\\Users\\amira\\AppData\\Local\\Temp\\ipykernel_9840\\2026738057.py:98: TracerWarning: Converting a tensor to a Python boolean might cause the trace to be incorrect. We can't record the data flow of Python values, so this value will be treated as a constant in the future. This means that the trace might not generalize to other inputs!\n",
      "  if x.shape != skip.shape:\n"
     ]
    },
    {
     "name": "stdout",
     "output_type": "stream",
     "text": [
      "============= Diagnostic Run torch.onnx.export version 2.0.1+cu118 =============\n",
      "verbose: False, log level: Level.ERROR\n",
      "======================= 0 NONE 0 NOTE 0 WARNING 0 ERROR ========================\n",
      "\n",
      "✅ Exported to .pt and .onnx\n"
     ]
    }
   ],
   "source": [
    "dummy = torch.randn(1, 4, 64, 128, 128).to(DEVICE)  # Adjust shape to your 3D input\n",
    "model = AttentionUNet3D().to(DEVICE)\n",
    "model.load_state_dict(torch.load(\"att_unet3d_best.pth\"))\n",
    "torch.jit.trace(model, dummy).save(\"attention_unet3d.pt\")\n",
    "torch.onnx.export(model, dummy, \"attention_unet3d.onnx\", input_names=[\"input\"], output_names=[\"output\"], opset_version=11)\n",
    "print(\"✅ Exported to .pt and .onnx\")"
   ]
  },
  {
   "cell_type": "markdown",
   "id": "8b26ebf2",
   "metadata": {},
   "source": [
    "## ✅ Summary & Deployment Tips\n",
    "- Best Dice model saved as `.pth`\n",
    "- Deployment-ready formats: `.pt` (TorchScript), `.onnx`\n",
    "- Use ONNX for ONNX Runtime, TensorRT, or OpenVINO.\n",
    "- Ideal for mobile, embedded, or web deployment.\n",
    "\n",
    "**Next step:** Try converting the ONNX model into TensorRT or integrating in a simple Flask demo."
   ]
  },
  {
   "cell_type": "markdown",
   "id": "494dd79a",
   "metadata": {},
   "source": [
    "## BraTS2021 Data Loader and Patient-Level 2D Slice Augmentation (Albumentations)\n",
    "This section prepares a PyTorch Dataset that loads 2D slices from each BraTS2021 patient, ensuring the split is performed at the patient level. Advanced 2D augmentations are applied using Albumentations for robust training.\n"
   ]
  },
  {
   "cell_type": "code",
   "execution_count": 14,
   "id": "8dde4715",
   "metadata": {},
   "outputs": [],
   "source": [
    "import nibabel as nib\n",
    "import numpy as np\n",
    "import torch\n",
    "from torch.utils.data import Dataset\n",
    "import albumentations as A\n",
    "from albumentations.pytorch import ToTensorV2\n",
    "import os\n",
    "import random\n",
    "\n",
    "class BraTSSliceDataset(Dataset):\n",
    "    def __init__(self, patient_dirs, augment=False):\n",
    "        self.slice_infos = []\n",
    "        self.augment = augment\n",
    "        for patient_dir in patient_dirs:\n",
    "            files = os.listdir(patient_dir)\n",
    "            flair_path = os.path.join(patient_dir, [f for f in files if \"flair\" in f][0])\n",
    "            t1_path = os.path.join(patient_dir, [f for f in files if \"t1.nii\" in f and \"t1ce\" not in f][0])\n",
    "            t1ce_path = os.path.join(patient_dir, [f for f in files if \"t1ce\" in f][0])\n",
    "            t2_path = os.path.join(patient_dir, [f for f in files if \"t2\" in f][0])\n",
    "            seg_path = os.path.join(patient_dir, [f for f in files if \"seg\" in f][0])\n",
    "\n",
    "            # Only load seg header to get shape\n",
    "            seg_img = nib.load(seg_path)\n",
    "            seg_shape = seg_img.shape\n",
    "\n",
    "            # For each slice, check if it contains tumor (without loading all volumes)\n",
    "            seg_data = seg_img.get_fdata()\n",
    "            for z in range(seg_shape[2]):\n",
    "                if np.any(seg_data[:, :, z] > 0):\n",
    "                    self.slice_infos.append({\n",
    "                        \"flair_path\": flair_path,\n",
    "                        \"t1_path\": t1_path,\n",
    "                        \"t1ce_path\": t1ce_path,\n",
    "                        \"t2_path\": t2_path,\n",
    "                        \"seg_path\": seg_path,\n",
    "                        \"z\": z\n",
    "                    })\n",
    "            del seg_data  # free memory\n",
    "\n",
    "        self.transform = A.Compose([\n",
    "            A.HorizontalFlip(p=0.5),\n",
    "            A.VerticalFlip(p=0.5),\n",
    "            A.Rotate(limit=15, p=0.5),\n",
    "            A.RandomBrightnessContrast(p=0.5),\n",
    "            A.Normalize(),\n",
    "            ToTensorV2()\n",
    "        ])\n",
    "\n",
    "    def __len__(self):\n",
    "        return len(self.slice_infos)\n",
    "\n",
    "    def __getitem__(self, idx):\n",
    "        info = self.slice_infos[idx]\n",
    "        z = info[\"z\"]\n",
    "        flair = nib.load(info[\"flair_path\"]).get_fdata()[:, :, z]\n",
    "        t1 = nib.load(info[\"t1_path\"]).get_fdata()[:, :, z]\n",
    "        t1ce = nib.load(info[\"t1ce_path\"]).get_fdata()[:, :, z]\n",
    "        t2 = nib.load(info[\"t2_path\"]).get_fdata()[:, :, z]\n",
    "        seg = nib.load(info[\"seg_path\"]).get_fdata()[:, :, z]\n",
    "\n",
    "        image = np.stack([flair, t1, t1ce, t2], axis=-1)  # [H, W, 4]\n",
    "        mask = seg.astype(np.uint8)  # [H, W]\n",
    "        if self.augment:\n",
    "            augmented = self.transform(image=image, mask=mask)\n",
    "            image, mask = augmented['image'], augmented['mask']\n",
    "        else:\n",
    "            image = torch.tensor(image.transpose(2, 0, 1), dtype=torch.float32)\n",
    "            mask = torch.tensor(mask, dtype=torch.long)\n",
    "        return image, mask\n",
    "\n",
    "# --- SPLIT PATIENTS BY FOLDER ---\n",
    "root_dir = r\"D:\\Khedir-meriem-ESI-SBElAbes\\data\\BraTS2021_Training_Data\"\n",
    "patient_dirs = sorted([os.path.join(root_dir, d) for d in os.listdir(root_dir) if os.path.isdir(os.path.join(root_dir, d))])\n",
    "random.shuffle(patient_dirs)\n",
    "split_idx = int(0.8 * len(patient_dirs))\n",
    "train_patients = patient_dirs[:split_idx]\n",
    "val_patients = patient_dirs[split_idx:]\n",
    "\n",
    "# --- LOADERS ---\n",
    "train_dataset = BraTSSliceDataset(train_patients, augment=True)\n",
    "val_dataset = BraTSSliceDataset(val_patients, augment=False)\n",
    "from torch.utils.data import DataLoader\n",
    "train_loader = DataLoader(train_dataset, batch_size=2, shuffle=True, num_workers=1)\n",
    "val_loader = DataLoader(val_dataset, batch_size=2, shuffle=False, num_workers=1)\n"
   ]
  },
  {
   "cell_type": "markdown",
   "id": "c7b86719",
   "metadata": {},
   "source": [
    "## 🔗 Ensemble Prediction: U-Net + Attention U-Net\n",
    "Combines predictions from both models to potentially improve segmentation accuracy."
   ]
  },
  {
   "cell_type": "code",
   "execution_count": null,
   "id": "8d5e4b6b",
   "metadata": {},
   "outputs": [
    {
     "ename": "NameError",
     "evalue": "name 'torch' is not defined",
     "output_type": "error",
     "traceback": [
      "\u001b[1;31m---------------------------------------------------------------------------\u001b[0m",
      "\u001b[1;31mNameError\u001b[0m                                 Traceback (most recent call last)",
      "Cell \u001b[1;32mIn[2], line 12\u001b[0m\n\u001b[0;32m      8\u001b[0m     \u001b[38;5;28;01mreturn\u001b[39;00m pred\n\u001b[0;32m     10\u001b[0m \u001b[38;5;66;03m# Load models ONCE\u001b[39;00m\n\u001b[0;32m     11\u001b[0m \u001b[38;5;66;03m# Exporting the model to .pt and .onnx formats\u001b[39;00m\n\u001b[1;32m---> 12\u001b[0m dummy \u001b[38;5;241m=\u001b[39m \u001b[43mtorch\u001b[49m\u001b[38;5;241m.\u001b[39mrandn(\u001b[38;5;241m1\u001b[39m, \u001b[38;5;241m4\u001b[39m, \u001b[38;5;241m64\u001b[39m, \u001b[38;5;241m128\u001b[39m, \u001b[38;5;241m128\u001b[39m)\u001b[38;5;241m.\u001b[39mto(DEVICE)  \u001b[38;5;66;03m# Adjust shape to your 3D input\u001b[39;00m\n\u001b[0;32m     13\u001b[0m model1 \u001b[38;5;241m=\u001b[39m UNet3D()\u001b[38;5;241m.\u001b[39mto(DEVICE)\n\u001b[0;32m     14\u001b[0m model1\u001b[38;5;241m.\u001b[39mload_state_dict(torch\u001b[38;5;241m.\u001b[39mload(\u001b[38;5;124m\"\u001b[39m\u001b[38;5;124munet3d_best.pth\u001b[39m\u001b[38;5;124m\"\u001b[39m))\n",
      "\u001b[1;31mNameError\u001b[0m: name 'torch' is not defined"
     ]
    }
   ],
   "source": [
    "def ensemble_predict(x, model1, model2):\n",
    "    model1.eval(); model2.eval()\n",
    "    with torch.no_grad():\n",
    "        out1 = model1(x)\n",
    "        out2 = model2(x)\n",
    "        avg_out = (out1 + out2) / 2\n",
    "        pred = torch.argmax(avg_out, dim=1)\n",
    "    return pred\n",
    "\n",
    "# Load models ONCE\n",
    "# Exporting the model to .pt and .onnx formats\n",
    "dummy = torch.randn(1, 4, 64, 128, 128).to(DEVICE)  # Adjust shape to your 3D input\n",
    "model1 = UNet3D().to(DEVICE)\n",
    "model1.load_state_dict(torch.load(\"unet3d_best.pth\"))\n",
    "model2 = AttentionUNet3D().to(DEVICE)\n",
    "model2.load_state_dict(torch.load(\"att_unet3d_best.pth\"))\n",
    "\n",
    "x, y = next(iter(val_loader))\n",
    "x, y = x.to(DEVICE), y.to(DEVICE)\n",
    "\n",
    "pred = ensemble_predict(x, model1, model2)\n",
    "\n",
    "plt.figure(figsize=(12, 4))\n",
    "for i in range(min(3, x.shape[0])):\n",
    "    plt.subplot(3, 3, i*3+1); plt.imshow(x[i][0].torch.deviCe(), cmap='gray'); plt.title('Input')\n",
    "    plt.subplot(3, 3, i*3+2); plt.imshow(y[i].DEVICE(), cmap='gray'); plt.title('Ground Truth')\n",
    "    plt.subplot(3, 3, i*3+3); plt.imshow(pred[i].gpu(), cmap='gray'); plt.title('Ensemble Pred')\n",
    "plt.tight_layout(); plt.show()\n",
    "# Save ensemble model\n",
    "torch.save(model1.state_dict(), \"ensemble_model1.pth\")\n",
    "\n"
   ]
  },
  {
   "cell_type": "code",
   "execution_count": null,
   "id": "f26fd11f",
   "metadata": {},
   "outputs": [
    {
     "ename": "",
     "evalue": "",
     "output_type": "error",
     "traceback": [
      "\u001b[1;31mCannot execute code, session has been disposed. Please try restarting the Kernel."
     ]
    },
    {
     "ename": "",
     "evalue": "",
     "output_type": "error",
     "traceback": [
      "\u001b[1;31mCannot execute code, session has been disposed. Please try restarting the Kernel. \n",
      "\u001b[1;31mView Jupyter <a href='command:jupyter.viewOutput'>log</a> for further details."
     ]
    }
   ],
   "source": [
    "# Exporting the model to .pt and .onnx formats\n",
    "dummy = torch.randn(1, 4, 64, 128, 128).to(DEVICE)  # Adjust shape to your 3D input\n",
    "\n",
    "\n",
    "with torch.no_grad():\n",
    "    pred = ensemble_predict(x, model1, model2)\n",
    "\n",
    "plt.figure(figsize=(12, 4))\n",
    "for i in range(min(3, x.shape[0])):\n",
    "    plt.subplot(3, 3, i*3+1); plt.imshow(x[i][0].cpu(), cmap='gray'); plt.title('Input')\n",
    "    plt.subplot(3, 3, i*3+2); plt.imshow(y[i].cpu(), cmap='gray'); plt.title('Ground Truth')\n",
    "    plt.subplot(3, 3, i*3+3); plt.imshow(pred[i].cpu(), cmap='gray'); plt.title('Ensemble Pred')\n",
    "plt.tight_layout(); plt.show()\n"
   ]
  },
  {
   "cell_type": "code",
   "execution_count": null,
   "id": "00f86ac7",
   "metadata": {},
   "outputs": [
    {
     "ename": "RuntimeError",
     "evalue": "Given input size: (32x1x240x240). Calculated output size: (32x0x120x120). Output size is too small",
     "output_type": "error",
     "traceback": [
      "\u001b[1;31m---------------------------------------------------------------------------\u001b[0m",
      "\u001b[1;31mRuntimeError\u001b[0m                              Traceback (most recent call last)",
      "Cell \u001b[1;32mIn[23], line 17\u001b[0m\n\u001b[0;32m     14\u001b[0m \u001b[38;5;28;01melse\u001b[39;00m:\n\u001b[0;32m     15\u001b[0m \tx3d \u001b[38;5;241m=\u001b[39m x\n\u001b[1;32m---> 17\u001b[0m pred \u001b[38;5;241m=\u001b[39m \u001b[43mensemble_predict\u001b[49m\u001b[43m(\u001b[49m\u001b[43mx3d\u001b[49m\u001b[43m)\u001b[49m\n\u001b[0;32m     18\u001b[0m \u001b[38;5;28mprint\u001b[39m(\u001b[38;5;124m\"\u001b[39m\u001b[38;5;124mTime for one batch:\u001b[39m\u001b[38;5;124m\"\u001b[39m, time\u001b[38;5;241m.\u001b[39mtime() \u001b[38;5;241m-\u001b[39m start, \u001b[38;5;124m\"\u001b[39m\u001b[38;5;124mseconds\u001b[39m\u001b[38;5;124m\"\u001b[39m)\n",
      "Cell \u001b[1;32mIn[18], line 9\u001b[0m, in \u001b[0;36mensemble_predict\u001b[1;34m(x)\u001b[0m\n\u001b[0;32m      6\u001b[0m model1\u001b[38;5;241m.\u001b[39meval(); model2\u001b[38;5;241m.\u001b[39meval()\n\u001b[0;32m      8\u001b[0m \u001b[38;5;28;01mwith\u001b[39;00m torch\u001b[38;5;241m.\u001b[39mno_grad():\n\u001b[1;32m----> 9\u001b[0m     out1 \u001b[38;5;241m=\u001b[39m \u001b[43mmodel1\u001b[49m\u001b[43m(\u001b[49m\u001b[43mx\u001b[49m\u001b[43m)\u001b[49m\n\u001b[0;32m     10\u001b[0m     out2 \u001b[38;5;241m=\u001b[39m model2(x)\n\u001b[0;32m     11\u001b[0m     avg_out \u001b[38;5;241m=\u001b[39m (out1 \u001b[38;5;241m+\u001b[39m out2) \u001b[38;5;241m/\u001b[39m \u001b[38;5;241m2\u001b[39m\n",
      "File \u001b[1;32mc:\\Advanced Brain Tumor Segmentation and Augmented Reality Integration\\.venv\\lib\\site-packages\\torch\\nn\\modules\\module.py:1501\u001b[0m, in \u001b[0;36mModule._call_impl\u001b[1;34m(self, *args, **kwargs)\u001b[0m\n\u001b[0;32m   1496\u001b[0m \u001b[38;5;66;03m# If we don't have any hooks, we want to skip the rest of the logic in\u001b[39;00m\n\u001b[0;32m   1497\u001b[0m \u001b[38;5;66;03m# this function, and just call forward.\u001b[39;00m\n\u001b[0;32m   1498\u001b[0m \u001b[38;5;28;01mif\u001b[39;00m \u001b[38;5;129;01mnot\u001b[39;00m (\u001b[38;5;28mself\u001b[39m\u001b[38;5;241m.\u001b[39m_backward_hooks \u001b[38;5;129;01mor\u001b[39;00m \u001b[38;5;28mself\u001b[39m\u001b[38;5;241m.\u001b[39m_backward_pre_hooks \u001b[38;5;129;01mor\u001b[39;00m \u001b[38;5;28mself\u001b[39m\u001b[38;5;241m.\u001b[39m_forward_hooks \u001b[38;5;129;01mor\u001b[39;00m \u001b[38;5;28mself\u001b[39m\u001b[38;5;241m.\u001b[39m_forward_pre_hooks\n\u001b[0;32m   1499\u001b[0m         \u001b[38;5;129;01mor\u001b[39;00m _global_backward_pre_hooks \u001b[38;5;129;01mor\u001b[39;00m _global_backward_hooks\n\u001b[0;32m   1500\u001b[0m         \u001b[38;5;129;01mor\u001b[39;00m _global_forward_hooks \u001b[38;5;129;01mor\u001b[39;00m _global_forward_pre_hooks):\n\u001b[1;32m-> 1501\u001b[0m     \u001b[38;5;28;01mreturn\u001b[39;00m forward_call(\u001b[38;5;241m*\u001b[39margs, \u001b[38;5;241m*\u001b[39m\u001b[38;5;241m*\u001b[39mkwargs)\n\u001b[0;32m   1502\u001b[0m \u001b[38;5;66;03m# Do not call functions when jit is used\u001b[39;00m\n\u001b[0;32m   1503\u001b[0m full_backward_hooks, non_full_backward_hooks \u001b[38;5;241m=\u001b[39m [], []\n",
      "Cell \u001b[1;32mIn[4], line 23\u001b[0m, in \u001b[0;36mUNet3D.forward\u001b[1;34m(self, x)\u001b[0m\n\u001b[0;32m     21\u001b[0m     x \u001b[38;5;241m=\u001b[39m layer(x)\n\u001b[0;32m     22\u001b[0m     skips\u001b[38;5;241m.\u001b[39mappend(x)\n\u001b[1;32m---> 23\u001b[0m     x \u001b[38;5;241m=\u001b[39m \u001b[38;5;28;43mself\u001b[39;49m\u001b[38;5;241;43m.\u001b[39;49m\u001b[43mpool\u001b[49m\u001b[43m(\u001b[49m\u001b[43mx\u001b[49m\u001b[43m)\u001b[49m\n\u001b[0;32m     24\u001b[0m x \u001b[38;5;241m=\u001b[39m \u001b[38;5;28mself\u001b[39m\u001b[38;5;241m.\u001b[39mbottleneck(x)\n\u001b[0;32m     25\u001b[0m skips \u001b[38;5;241m=\u001b[39m skips[::\u001b[38;5;241m-\u001b[39m\u001b[38;5;241m1\u001b[39m]\n",
      "File \u001b[1;32mc:\\Advanced Brain Tumor Segmentation and Augmented Reality Integration\\.venv\\lib\\site-packages\\torch\\nn\\modules\\module.py:1501\u001b[0m, in \u001b[0;36mModule._call_impl\u001b[1;34m(self, *args, **kwargs)\u001b[0m\n\u001b[0;32m   1496\u001b[0m \u001b[38;5;66;03m# If we don't have any hooks, we want to skip the rest of the logic in\u001b[39;00m\n\u001b[0;32m   1497\u001b[0m \u001b[38;5;66;03m# this function, and just call forward.\u001b[39;00m\n\u001b[0;32m   1498\u001b[0m \u001b[38;5;28;01mif\u001b[39;00m \u001b[38;5;129;01mnot\u001b[39;00m (\u001b[38;5;28mself\u001b[39m\u001b[38;5;241m.\u001b[39m_backward_hooks \u001b[38;5;129;01mor\u001b[39;00m \u001b[38;5;28mself\u001b[39m\u001b[38;5;241m.\u001b[39m_backward_pre_hooks \u001b[38;5;129;01mor\u001b[39;00m \u001b[38;5;28mself\u001b[39m\u001b[38;5;241m.\u001b[39m_forward_hooks \u001b[38;5;129;01mor\u001b[39;00m \u001b[38;5;28mself\u001b[39m\u001b[38;5;241m.\u001b[39m_forward_pre_hooks\n\u001b[0;32m   1499\u001b[0m         \u001b[38;5;129;01mor\u001b[39;00m _global_backward_pre_hooks \u001b[38;5;129;01mor\u001b[39;00m _global_backward_hooks\n\u001b[0;32m   1500\u001b[0m         \u001b[38;5;129;01mor\u001b[39;00m _global_forward_hooks \u001b[38;5;129;01mor\u001b[39;00m _global_forward_pre_hooks):\n\u001b[1;32m-> 1501\u001b[0m     \u001b[38;5;28;01mreturn\u001b[39;00m forward_call(\u001b[38;5;241m*\u001b[39margs, \u001b[38;5;241m*\u001b[39m\u001b[38;5;241m*\u001b[39mkwargs)\n\u001b[0;32m   1502\u001b[0m \u001b[38;5;66;03m# Do not call functions when jit is used\u001b[39;00m\n\u001b[0;32m   1503\u001b[0m full_backward_hooks, non_full_backward_hooks \u001b[38;5;241m=\u001b[39m [], []\n",
      "File \u001b[1;32mc:\\Advanced Brain Tumor Segmentation and Augmented Reality Integration\\.venv\\lib\\site-packages\\torch\\nn\\modules\\pooling.py:244\u001b[0m, in \u001b[0;36mMaxPool3d.forward\u001b[1;34m(self, input)\u001b[0m\n\u001b[0;32m    243\u001b[0m \u001b[38;5;28;01mdef\u001b[39;00m\u001b[38;5;250m \u001b[39m\u001b[38;5;21mforward\u001b[39m(\u001b[38;5;28mself\u001b[39m, \u001b[38;5;28minput\u001b[39m: Tensor):\n\u001b[1;32m--> 244\u001b[0m     \u001b[38;5;28;01mreturn\u001b[39;00m \u001b[43mF\u001b[49m\u001b[38;5;241;43m.\u001b[39;49m\u001b[43mmax_pool3d\u001b[49m\u001b[43m(\u001b[49m\u001b[38;5;28;43minput\u001b[39;49m\u001b[43m,\u001b[49m\u001b[43m \u001b[49m\u001b[38;5;28;43mself\u001b[39;49m\u001b[38;5;241;43m.\u001b[39;49m\u001b[43mkernel_size\u001b[49m\u001b[43m,\u001b[49m\u001b[43m \u001b[49m\u001b[38;5;28;43mself\u001b[39;49m\u001b[38;5;241;43m.\u001b[39;49m\u001b[43mstride\u001b[49m\u001b[43m,\u001b[49m\n\u001b[0;32m    245\u001b[0m \u001b[43m                        \u001b[49m\u001b[38;5;28;43mself\u001b[39;49m\u001b[38;5;241;43m.\u001b[39;49m\u001b[43mpadding\u001b[49m\u001b[43m,\u001b[49m\u001b[43m \u001b[49m\u001b[38;5;28;43mself\u001b[39;49m\u001b[38;5;241;43m.\u001b[39;49m\u001b[43mdilation\u001b[49m\u001b[43m,\u001b[49m\u001b[43m \u001b[49m\u001b[43mceil_mode\u001b[49m\u001b[38;5;241;43m=\u001b[39;49m\u001b[38;5;28;43mself\u001b[39;49m\u001b[38;5;241;43m.\u001b[39;49m\u001b[43mceil_mode\u001b[49m\u001b[43m,\u001b[49m\n\u001b[0;32m    246\u001b[0m \u001b[43m                        \u001b[49m\u001b[43mreturn_indices\u001b[49m\u001b[38;5;241;43m=\u001b[39;49m\u001b[38;5;28;43mself\u001b[39;49m\u001b[38;5;241;43m.\u001b[39;49m\u001b[43mreturn_indices\u001b[49m\u001b[43m)\u001b[49m\n",
      "File \u001b[1;32mc:\\Advanced Brain Tumor Segmentation and Augmented Reality Integration\\.venv\\lib\\site-packages\\torch\\_jit_internal.py:484\u001b[0m, in \u001b[0;36mboolean_dispatch.<locals>.fn\u001b[1;34m(*args, **kwargs)\u001b[0m\n\u001b[0;32m    482\u001b[0m     \u001b[38;5;28;01mreturn\u001b[39;00m if_true(\u001b[38;5;241m*\u001b[39margs, \u001b[38;5;241m*\u001b[39m\u001b[38;5;241m*\u001b[39mkwargs)\n\u001b[0;32m    483\u001b[0m \u001b[38;5;28;01melse\u001b[39;00m:\n\u001b[1;32m--> 484\u001b[0m     \u001b[38;5;28;01mreturn\u001b[39;00m if_false(\u001b[38;5;241m*\u001b[39margs, \u001b[38;5;241m*\u001b[39m\u001b[38;5;241m*\u001b[39mkwargs)\n",
      "File \u001b[1;32mc:\\Advanced Brain Tumor Segmentation and Augmented Reality Integration\\.venv\\lib\\site-packages\\torch\\nn\\functional.py:868\u001b[0m, in \u001b[0;36m_max_pool3d\u001b[1;34m(input, kernel_size, stride, padding, dilation, ceil_mode, return_indices)\u001b[0m\n\u001b[0;32m    866\u001b[0m \u001b[38;5;28;01mif\u001b[39;00m stride \u001b[38;5;129;01mis\u001b[39;00m \u001b[38;5;28;01mNone\u001b[39;00m:\n\u001b[0;32m    867\u001b[0m     stride \u001b[38;5;241m=\u001b[39m torch\u001b[38;5;241m.\u001b[39mjit\u001b[38;5;241m.\u001b[39mannotate(List[\u001b[38;5;28mint\u001b[39m], [])\n\u001b[1;32m--> 868\u001b[0m \u001b[38;5;28;01mreturn\u001b[39;00m \u001b[43mtorch\u001b[49m\u001b[38;5;241;43m.\u001b[39;49m\u001b[43mmax_pool3d\u001b[49m\u001b[43m(\u001b[49m\u001b[38;5;28;43minput\u001b[39;49m\u001b[43m,\u001b[49m\u001b[43m \u001b[49m\u001b[43mkernel_size\u001b[49m\u001b[43m,\u001b[49m\u001b[43m \u001b[49m\u001b[43mstride\u001b[49m\u001b[43m,\u001b[49m\u001b[43m \u001b[49m\u001b[43mpadding\u001b[49m\u001b[43m,\u001b[49m\u001b[43m \u001b[49m\u001b[43mdilation\u001b[49m\u001b[43m,\u001b[49m\u001b[43m \u001b[49m\u001b[43mceil_mode\u001b[49m\u001b[43m)\u001b[49m\n",
      "\u001b[1;31mRuntimeError\u001b[0m: Given input size: (32x1x240x240). Calculated output size: (32x0x120x120). Output size is too small"
     ]
    }
   ],
   "source": [
    "import time\n",
    "# Make sure the cell that defines val_loader (BraTSSliceDataset 2D loader) has been run\n",
    "x, y = next(iter(val_loader))\n",
    "start = time.time()\n",
    "x, y = x.to(DEVICE), y.to(DEVICE)\n",
    "\n",
    "# Ensure input shape is [batch, channels, depth, H, W] for 3D model\n",
    "if x.dim() == 4:\n",
    "\t# [batch, channels, H, W] -> [batch, channels, 1, H, W]\n",
    "\tx3d = x.unsqueeze(2)\n",
    "elif x.dim() == 5 and x.shape[1] != 4 and x.shape[2] == 4:\n",
    "\t# [batch, depth, channels, H, W] -> [batch, channels, depth, H, W]\n",
    "\tx3d = x.permute(0, 2, 1, 3, 4)\n",
    "else:\n",
    "\tx3d = x\n",
    "\n",
    "pred = ensemble_predict(x3d)\n",
    "print(\"Time for one batch:\", time.time() - start, \"seconds\")\n"
   ]
  }
 ],
 "metadata": {
  "kernelspec": {
   "display_name": ".venv",
   "language": "python",
   "name